{
 "cells": [
  {
   "cell_type": "markdown",
   "id": "a7c039f9",
   "metadata": {},
   "source": [
    "# SQLITE WITH PYTHON"
   ]
  },
  {
   "cell_type": "markdown",
   "id": "18cde40a",
   "metadata": {},
   "source": [
    "# DATABASE-------4th Feb"
   ]
  },
  {
   "cell_type": "raw",
   "id": "cd6944e5",
   "metadata": {},
   "source": [
    "Database are those locations where number of tables could be created and all those tables are logical reated to each other that paticular memory space known as database.\n",
    "\n",
    "To handle the database, we need certain technologies that technology is basically Data Base Mannagement System.\n",
    "\n",
    "Data Base Mangement System is one of the software and technology through which we can create, manage, maintain, sreach the data and delete the entire databases.\n",
    "\n",
    "Inside the database, we can keep the records in the form of tables. The tables are creation of rows into columns. We need to access these databases."
   ]
  },
  {
   "cell_type": "markdown",
   "id": "3d9778ec",
   "metadata": {},
   "source": [
    "# What are the 3 types of SQL?"
   ]
  },
  {
   "cell_type": "raw",
   "id": "63b54cd9",
   "metadata": {},
   "source": [
    "SQL Commands can be grouped into following depending on their functionality: \n",
    "1. DDL (Data Definition Language) ----create, alter, drop\n",
    "2. DML (Data Manipulation Language)----select, insert, delete \n",
    "3. TCL or DCL (Transaction Control Language or Data Control Language.) -----commit, rollback, grant/evoke"
   ]
  },
  {
   "cell_type": "markdown",
   "id": "8cdb94c7",
   "metadata": {},
   "source": [
    "###### Basically, there are two types of DBMSs: relational and non-relational, also referred to as SQL and NoSQL respectively."
   ]
  },
  {
   "cell_type": "raw",
   "id": "1ab458a2",
   "metadata": {},
   "source": [
    "ReLtionL Data Base Management System: means here we can built up entire data base into Rows and Columns. There are various software such as SqLite, MySQL, Oracla, MS_SQL Server, Postgre SQL server etc. These all are relational database management system. where one can work with rows and columns. Here table like structure, we are having.\n",
    "\n",
    "Non-Relational Data Base Management System: These type of Data Base Management System do not have structure in the form of rows and columns. There are into the form of NoSQL form. Generally we called NoSQL DBMSs.\n",
    "Example: MongoDB, Oracle NoSQL Database, Objectivity InfiniteGraph, Amazon dynamodb, cassandra, ElasticSreach etc. \n",
    "\n",
    "we do use such type of software, whenever we are draging out the data or we need to use out the data from social media data. There are into video, image, voice type video data, emojies, or some textual data or mixture of data are required.\n",
    "     "
   ]
  },
  {
   "cell_type": "markdown",
   "id": "f617340b",
   "metadata": {},
   "source": [
    "# Link to know how to start sql with python in jupyter"
   ]
  },
  {
   "cell_type": "markdown",
   "id": "f8992352",
   "metadata": {},
   "source": [
    "https://towardsdatascience.com/starting-with-sql-in-python-948e529586f2"
   ]
  },
  {
   "cell_type": "raw",
   "id": "c3d5796e",
   "metadata": {},
   "source": [
    "Step 1 — Importing SQLite and Pandas\n",
    "To start, we will need to import SQLite into our Jupyter notebook.\n",
    "\n",
    "-->import sqlite3\n",
    "-->import pandas as pd\n",
    "\n",
    "Step 2 — Connecting your database\n",
    "Using the connect() function allows you to create a database in your environment. This helps users name their database to be called in Python later on. The connect() function maintains the connection while you are working with the database.\n",
    "\n",
    "An important thing to note is that while you are connected to the database, other users will not be able to access it at the same time. This is why it is essential to close() the connection when you are done(I’ll discuss closing a connection near the end).\n",
    "\n",
    "-->sql_connect = sqlite3.connect('factbook.db')\n",
    "\n",
    "Step 3 — Cursor Object\n",
    "\n",
    "The cursor() function is used to assist with executing our SQL queries.\n",
    "\n",
    "cursor = sql_connect.cursor()\n",
    "It is important that you use the cursor() to return a Cursor instance corresponding to the database we want to query.\n",
    "\n"
   ]
  },
  {
   "cell_type": "markdown",
   "id": "e2c6ad73",
   "metadata": {},
   "source": [
    "# Tables"
   ]
  },
  {
   "cell_type": "raw",
   "id": "02065648",
   "metadata": {},
   "source": [
    "Tables are database objects that contain all the data in a database. In tables, data is logically organized in a row-and-column format similar to a spreadsheet. Each row represents a unique record, and each column represents a field in the record."
   ]
  },
  {
   "cell_type": "markdown",
   "id": "dbe127ee",
   "metadata": {},
   "source": [
    "# Rows Vs Cloumns"
   ]
  },
  {
   "cell_type": "markdown",
   "id": "d88dd149",
   "metadata": {},
   "source": [
    "# What is row vs column in SQL?\n",
    "\n",
    "\n",
    "Tables contain rows and columns, where the rows are known as records and the columns are known as fields.\n",
    "\n",
    "A row, or record, is also known as a tuple. The columns in a table is a field and is also referred to as an attribute.\n",
    "\n",
    "A row is a horizontal alignment of data, while a column is vertical. Data in a row contains information that describes a single entity, while data in a column describes a field of information all entities possess. Objects placed in a row typically face forward, while objects in a columns are aligned head to tail.\n",
    "\n",
    "rows are alo known as "
   ]
  },
  {
   "cell_type": "code",
   "execution_count": null,
   "id": "971bd399",
   "metadata": {},
   "outputs": [],
   "source": [
    "DBMS are basically of two types on the basiis of license:\n",
    "    \n",
    "    1. Open Source ----- SQLite, MySQL, postgreSQL\n",
    "    \n",
    "    2. Proprietor ----Need to purchase the license---- orcale, MS_SQL Server"
   ]
  },
  {
   "cell_type": "raw",
   "id": "1458ea53",
   "metadata": {},
   "source": [
    "# SQLite is a C library that provides a lightweight disk-based database that doesn’t require a separate server process and allows accessing the database using a non-standard variant of the SQL query language."
   ]
  },
  {
   "cell_type": "markdown",
   "id": "d4d9139e",
   "metadata": {},
   "source": [
    "# Is sqlite3 the same as SQL?"
   ]
  },
  {
   "cell_type": "raw",
   "id": "d9dd6877",
   "metadata": {},
   "source": [
    "SQL is standard which specifies how relational schema is created, data is inserted or updated in relations, transactions are started and stopped, etc. SQLite is file-based. It is different from other SQL databases because unlike most other SQL databases, SQLite does not have separate server process."
   ]
  },
  {
   "cell_type": "markdown",
   "id": "1c30896b",
   "metadata": {},
   "source": [
    "# Do you need a server for SQLite?"
   ]
  },
  {
   "cell_type": "raw",
   "id": "b44df106",
   "metadata": {},
   "source": [
    "SQLite is serverless as it doesn't need a different server process or system to operate. SQLite facilitates we to work on multiple databases on the same session simultaneously, thus making it flexible."
   ]
  },
  {
   "cell_type": "markdown",
   "id": "98af6889",
   "metadata": {},
   "source": [
    "# Can SQLite be access by multiple processes?"
   ]
  },
  {
   "cell_type": "raw",
   "id": "8ccd680e",
   "metadata": {},
   "source": [
    "SQLite allows multiple processes to have the database file open at once, and for multiple processes to read the database at once. When any process wants to write, it must lock the entire database file for the duration of its update. But that normally only takes a few milliseconds."
   ]
  },
  {
   "cell_type": "code",
   "execution_count": 1,
   "id": "60537010",
   "metadata": {},
   "outputs": [],
   "source": [
    "import sqlite3"
   ]
  },
  {
   "cell_type": "raw",
   "id": "1670c8d2",
   "metadata": {},
   "source": [
    "working with database using SQL (Structured Query Language)\n",
    "\n",
    "1. Create a connection object.\n",
    "2. Form the connection object,  create a cursor object.\n",
    "3. Using the cursor object, call the execute method with create table query as the parameter."
   ]
  },
  {
   "cell_type": "markdown",
   "id": "7b491d53",
   "metadata": {},
   "source": [
    "# Create Database"
   ]
  },
  {
   "cell_type": "code",
   "execution_count": 1,
   "id": "6b4e6999",
   "metadata": {},
   "outputs": [],
   "source": [
    "#Student_Feb_database will be created in Jupyter notebook Home.\n",
    "\n",
    "# First connection object\n",
    "import sqlite3\n",
    "dbconn = sqlite3.connect('Student_Feb_database.db')"
   ]
  },
  {
   "cell_type": "markdown",
   "id": "00ad84ff",
   "metadata": {},
   "source": [
    "###### Cursor:"
   ]
  },
  {
   "cell_type": "raw",
   "id": "e7ffcde0",
   "metadata": {},
   "source": [
    "==> A cursor in SQL is a temporary work area created in system memory when a SQL statement is executed.\n",
    "==> A SQL cursor is a set of rows together with a pointer that identifies a current row.\n",
    "==> It is a database object to retrive data from a result set one row at a time."
   ]
  },
  {
   "cell_type": "markdown",
   "id": "17abc96f",
   "metadata": {},
   "source": [
    "# Create cursor object from connection to make temporary memmory area to execute SQL query"
   ]
  },
  {
   "cell_type": "code",
   "execution_count": 2,
   "id": "788011ef",
   "metadata": {},
   "outputs": [],
   "source": [
    "# Create cursor object from connection to make temporary memmory area to execute SQL query\n",
    "\n",
    "cur = dbconn.cursor()"
   ]
  },
  {
   "cell_type": "markdown",
   "id": "1031377b",
   "metadata": {},
   "source": [
    "# Create table in Student_Feb_database"
   ]
  },
  {
   "cell_type": "raw",
   "id": "25c904d5",
   "metadata": {},
   "source": [
    "# SQL data types:----\n",
    "    \n",
    "   1. integer ----- numeric values\n",
    "   2. real ------ decimal values\n",
    "   3. text ------ character values\n",
    "   4. char(20)  --- character values"
   ]
  },
  {
   "cell_type": "code",
   "execution_count": 3,
   "id": "bab515e3",
   "metadata": {},
   "outputs": [
    {
     "data": {
      "text/plain": [
       "<sqlite3.Cursor at 0x1ffbb48c540>"
      ]
     },
     "execution_count": 3,
     "metadata": {},
     "output_type": "execute_result"
    }
   ],
   "source": [
    "cur.execute(\"create table student (sid int primary key, name text, age int)\")"
   ]
  },
  {
   "cell_type": "markdown",
   "id": "1e0644ef",
   "metadata": {},
   "source": [
    "# Insert data in Student_Feb_database"
   ]
  },
  {
   "cell_type": "code",
   "execution_count": 4,
   "id": "15ed4900",
   "metadata": {},
   "outputs": [],
   "source": [
    "cur.execute(\"insert into Student(sid,name,age) values(1, 'Andrea', 12)\")\n",
    "dbconn.commit(); # no need to keep semi colon in jupyter"
   ]
  },
  {
   "cell_type": "code",
   "execution_count": 5,
   "id": "457159a1",
   "metadata": {},
   "outputs": [],
   "source": [
    "cur.execute(\"insert into Student(sid,name,age) values(2, 'Smith', 11)\")\n",
    "dbconn.commit();"
   ]
  },
  {
   "cell_type": "code",
   "execution_count": 6,
   "id": "315ea485",
   "metadata": {},
   "outputs": [],
   "source": [
    "cur.execute(\"insert into Student(sid,name,age) values(3, 'Clara', 11)\")\n",
    "dbconn.commit();"
   ]
  },
  {
   "cell_type": "code",
   "execution_count": 7,
   "id": "18fffd1f",
   "metadata": {},
   "outputs": [
    {
     "name": "stdout",
     "output_type": "stream",
     "text": [
      "(1, 'Andrea', 12)\n",
      "(2, 'Smith', 11)\n",
      "(3, 'Clara', 11)\n"
     ]
    }
   ],
   "source": [
    "rows = cur.execute(\"select * from student\")\n",
    "for i in rows:\n",
    "    print(i)"
   ]
  },
  {
   "cell_type": "code",
   "execution_count": 8,
   "id": "ef34e48a",
   "metadata": {},
   "outputs": [],
   "source": [
    "cur.execute(\"insert into Student(sid,name,age) values(4, 'Jhon', 9)\")\n",
    "dbconn.commit();"
   ]
  },
  {
   "cell_type": "code",
   "execution_count": 9,
   "id": "1e167a12",
   "metadata": {},
   "outputs": [],
   "source": [
    "cur.execute(\"insert into Student(sid,name,age) values(5, 'Jack', 8)\")\n",
    "dbconn.commit();"
   ]
  },
  {
   "cell_type": "code",
   "execution_count": 10,
   "id": "10cfc865",
   "metadata": {},
   "outputs": [],
   "source": [
    "cur.execute(\"insert into Student(sid,name,age) values(6, 'Kiara', 15)\")\n",
    "dbconn.commit();"
   ]
  },
  {
   "cell_type": "code",
   "execution_count": 11,
   "id": "927568d3",
   "metadata": {},
   "outputs": [],
   "source": [
    "cur.execute(\"insert into Student(sid,name,age) values(7, 'Jade', 15)\")\n",
    "dbconn.commit();"
   ]
  },
  {
   "cell_type": "code",
   "execution_count": 12,
   "id": "cfdc3cd1",
   "metadata": {},
   "outputs": [
    {
     "name": "stdout",
     "output_type": "stream",
     "text": [
      "(1, 'Andrea', 12)\n",
      "(2, 'Smith', 11)\n",
      "(3, 'Clara', 11)\n",
      "(4, 'Jhon', 9)\n",
      "(5, 'Jack', 8)\n",
      "(6, 'Kiara', 15)\n",
      "(7, 'Jade', 15)\n"
     ]
    }
   ],
   "source": [
    "rows = cur.execute(\"select * from student\")\n",
    "for i in rows:\n",
    "    print(i)"
   ]
  },
  {
   "cell_type": "code",
   "execution_count": 13,
   "id": "11758457",
   "metadata": {},
   "outputs": [
    {
     "ename": "OperationalError",
     "evalue": "no such function: concate",
     "output_type": "error",
     "traceback": [
      "\u001b[1;31m---------------------------------------------------------------------------\u001b[0m",
      "\u001b[1;31mOperationalError\u001b[0m                          Traceback (most recent call last)",
      "Cell \u001b[1;32mIn[13], line 1\u001b[0m\n\u001b[1;32m----> 1\u001b[0m \u001b[43mcur\u001b[49m\u001b[38;5;241;43m.\u001b[39;49m\u001b[43mexecute\u001b[49m\u001b[43m(\u001b[49m\u001b[38;5;124;43m\"\u001b[39;49m\u001b[38;5;124;43mselect name, age, concate(name,\u001b[39;49m\u001b[38;5;124;43m'\u001b[39;49m\u001b[38;5;124;43m'\u001b[39;49m\u001b[38;5;124;43m,age) AS \u001b[39;49m\u001b[38;5;124;43m'\u001b[39;49m\u001b[38;5;124;43mNA\u001b[39;49m\u001b[38;5;124;43m'\u001b[39;49m\u001b[38;5;124;43m from student\u001b[39;49m\u001b[38;5;124;43m\"\u001b[39;49m\u001b[43m)\u001b[49m\n\u001b[0;32m      3\u001b[0m rows \u001b[38;5;241m=\u001b[39m cur\u001b[38;5;241m.\u001b[39mexecute(\u001b[38;5;124m\"\u001b[39m\u001b[38;5;124mselect * from student\u001b[39m\u001b[38;5;124m\"\u001b[39m)\n\u001b[0;32m      4\u001b[0m \u001b[38;5;28;01mfor\u001b[39;00m i \u001b[38;5;129;01min\u001b[39;00m rows:\n",
      "\u001b[1;31mOperationalError\u001b[0m: no such function: concate"
     ]
    }
   ],
   "source": [
    "cur.execute(\"select name, age, concate(name,'',age) AS 'NA' from student\")\n",
    "\n",
    "rows = cur.execute(\"select * from student\")\n",
    "for i in rows:\n",
    "    print(i)"
   ]
  },
  {
   "cell_type": "code",
   "execution_count": 14,
   "id": "85c60d60",
   "metadata": {},
   "outputs": [
    {
     "name": "stdout",
     "output_type": "stream",
     "text": [
      "(1, 'Andrea', 12)\n",
      "(2, 'Smith', 11)\n",
      "(3, 'Clara', 11)\n",
      "(4, 'Jhon', 9)\n",
      "(5, 'Jack', 8)\n",
      "(6, 'Kiara', 15)\n",
      "(7, 'Jade', 15)\n"
     ]
    }
   ],
   "source": [
    "cur.execute(\"SELECT name, age, name || ' ' || age AS 'NA' FROM student\")\n",
    "\n",
    "rows = cur.execute(\"SELECT * FROM student\")\n",
    "for i in rows:\n",
    "    print(i)"
   ]
  },
  {
   "cell_type": "raw",
   "id": "0bfdbc3a",
   "metadata": {},
   "source": [
    "==> Primary Key means : it should be unique or not null---data should be filled, we cannot leave empty.\n",
    "    ==> primary key should be only one. Blank space also cannnot keep for primary key. If still we are doing it then we will get error.\n",
    "    \n",
    "NOTE:Here we need to hold the data that#s why we are using the rows."
   ]
  },
  {
   "cell_type": "code",
   "execution_count": 15,
   "id": "0c3336db",
   "metadata": {},
   "outputs": [
    {
     "name": "stdout",
     "output_type": "stream",
     "text": [
      "(1, 'Andrea', 12)\n"
     ]
    }
   ],
   "source": [
    "rows = cur.execute(\"select * from student where sid=1\")\n",
    "for i in rows:\n",
    "    print(i)"
   ]
  },
  {
   "cell_type": "code",
   "execution_count": 16,
   "id": "fe4f5e5e",
   "metadata": {},
   "outputs": [
    {
     "name": "stdout",
     "output_type": "stream",
     "text": [
      "(2, 'Smith', 11)\n"
     ]
    }
   ],
   "source": [
    "rows = cur.execute(\"select * from student where sid=2\")\n",
    "for i in rows:\n",
    "    print(i)"
   ]
  },
  {
   "cell_type": "code",
   "execution_count": 17,
   "id": "6d1f5380",
   "metadata": {},
   "outputs": [
    {
     "name": "stdout",
     "output_type": "stream",
     "text": [
      "(6, 'Kiara', 15)\n"
     ]
    }
   ],
   "source": [
    "rows = cur.execute(\"select * from student where sid=6\")\n",
    "for i in rows:\n",
    "    print(i)"
   ]
  },
  {
   "cell_type": "code",
   "execution_count": 18,
   "id": "cb80838a",
   "metadata": {},
   "outputs": [
    {
     "name": "stdout",
     "output_type": "stream",
     "text": [
      "(4, 'Jhon', 9)\n"
     ]
    }
   ],
   "source": [
    "rows = cur.execute(\"select * from student where name='Jhon'\")\n",
    "for i in rows:\n",
    "    print(i)"
   ]
  },
  {
   "cell_type": "code",
   "execution_count": 19,
   "id": "0b1847b6",
   "metadata": {},
   "outputs": [
    {
     "name": "stdout",
     "output_type": "stream",
     "text": [
      "(4, 'Jhon', 9)\n"
     ]
    }
   ],
   "source": [
    "rows = cur.execute(\"select * from student where age = 9\")\n",
    "\n",
    "for i in rows:\n",
    "    print(i)"
   ]
  },
  {
   "cell_type": "code",
   "execution_count": 20,
   "id": "8b65f89d",
   "metadata": {},
   "outputs": [
    {
     "name": "stdout",
     "output_type": "stream",
     "text": [
      "(6, 'Kiara', 15)\n",
      "(7, 'Jade', 15)\n"
     ]
    }
   ],
   "source": [
    "rows = cur.execute(\"select * from student where age = 15\")\n",
    "\n",
    "for i in rows:\n",
    "    print(i)"
   ]
  },
  {
   "cell_type": "code",
   "execution_count": 21,
   "id": "0c1d50d7",
   "metadata": {},
   "outputs": [
    {
     "name": "stdout",
     "output_type": "stream",
     "text": [
      "(1,)\n",
      "(2,)\n",
      "(3,)\n",
      "(4,)\n",
      "(5,)\n",
      "(6,)\n",
      "(7,)\n"
     ]
    }
   ],
   "source": [
    "rows = cur.execute(\"select sid from student\")\n",
    "for i in rows:\n",
    "    print(i)"
   ]
  },
  {
   "cell_type": "code",
   "execution_count": 22,
   "id": "1e70d60d",
   "metadata": {},
   "outputs": [
    {
     "name": "stdout",
     "output_type": "stream",
     "text": [
      "(1, 'Andrea')\n",
      "(2, 'Smith')\n",
      "(3, 'Clara')\n",
      "(4, 'Jhon')\n",
      "(5, 'Jack')\n",
      "(6, 'Kiara')\n",
      "(7, 'Jade')\n"
     ]
    }
   ],
   "source": [
    "rows = cur.execute(\"select sid, name from student\")\n",
    "for i in rows:\n",
    "    print(i)"
   ]
  },
  {
   "cell_type": "code",
   "execution_count": 23,
   "id": "5dc997ca",
   "metadata": {},
   "outputs": [
    {
     "name": "stdout",
     "output_type": "stream",
     "text": [
      "(1, 12)\n",
      "(2, 11)\n",
      "(3, 11)\n",
      "(4, 9)\n",
      "(5, 8)\n",
      "(6, 15)\n",
      "(7, 15)\n"
     ]
    }
   ],
   "source": [
    "rows = cur.execute(\"select sid, age from student\")\n",
    "for i in rows:\n",
    "    print(i)"
   ]
  },
  {
   "cell_type": "code",
   "execution_count": 24,
   "id": "eaab72bf",
   "metadata": {},
   "outputs": [
    {
     "name": "stdout",
     "output_type": "stream",
     "text": [
      "('Andrea',)\n",
      "('Smith',)\n",
      "('Clara',)\n",
      "('Jhon',)\n",
      "('Jack',)\n",
      "('Kiara',)\n",
      "('Jade',)\n"
     ]
    }
   ],
   "source": [
    "rows =cur.execute(\"select name from student\")\n",
    "for i in rows:\n",
    "    print(i)"
   ]
  },
  {
   "cell_type": "code",
   "execution_count": 25,
   "id": "ffe8809b",
   "metadata": {},
   "outputs": [
    {
     "name": "stdout",
     "output_type": "stream",
     "text": [
      "(1, 'Andrea', 12)\n",
      "(2, 'Smith', 11)\n",
      "(3, 'Clara', 11)\n",
      "(4, 'Jhon', 9)\n",
      "(5, 'Jack', 8)\n",
      "(6, 'Kiara', 15)\n",
      "(7, 'Jade', 15)\n"
     ]
    }
   ],
   "source": [
    "rows =cur.execute(\"select * from student\")\n",
    "for i in rows:\n",
    "    print(i)"
   ]
  },
  {
   "cell_type": "markdown",
   "id": "83dcb9cd",
   "metadata": {},
   "source": [
    "# Where Clause:"
   ]
  },
  {
   "cell_type": "raw",
   "id": "d2511d2f",
   "metadata": {},
   "source": [
    "The WHERE clause is used to filter records. It is used to extract only those records that fulfill a specified condition."
   ]
  },
  {
   "cell_type": "code",
   "execution_count": 26,
   "id": "8cdb84a6",
   "metadata": {},
   "outputs": [
    {
     "name": "stdout",
     "output_type": "stream",
     "text": [
      "('Smith',)\n",
      "('Clara',)\n"
     ]
    }
   ],
   "source": [
    "rows = cur.execute(\"select name from student where age = 11\")\n",
    "for i in rows:\n",
    "    print(i)"
   ]
  },
  {
   "cell_type": "code",
   "execution_count": 27,
   "id": "7d8b0a9d",
   "metadata": {},
   "outputs": [
    {
     "name": "stdout",
     "output_type": "stream",
     "text": [
      "('Smith', 2, 11)\n",
      "('Clara', 3, 11)\n"
     ]
    }
   ],
   "source": [
    "rows = cur.execute(\"select name, sid, age from student where age = 11\")\n",
    "for i in rows:\n",
    "    print(i)"
   ]
  },
  {
   "cell_type": "code",
   "execution_count": 28,
   "id": "5e236780",
   "metadata": {},
   "outputs": [
    {
     "name": "stdout",
     "output_type": "stream",
     "text": [
      "(2, 'Smith', 11)\n",
      "(3, 'Clara', 11)\n"
     ]
    }
   ],
   "source": [
    "rows = cur.execute(\"select * from student where age = 11\")\n",
    "for i in rows:\n",
    "    print(i)"
   ]
  },
  {
   "cell_type": "code",
   "execution_count": 29,
   "id": "1bdf6be7",
   "metadata": {
    "scrolled": true
   },
   "outputs": [
    {
     "name": "stdout",
     "output_type": "stream",
     "text": [
      "(1, 'Andrea', 12)\n",
      "(2, 'Smith', 11)\n",
      "(3, 'Clara', 11)\n",
      "(4, 'Jhon', 9)\n",
      "(5, 'Jack', 8)\n",
      "(6, 'Kiara', 15)\n",
      "(7, 'Jade', 15)\n"
     ]
    }
   ],
   "source": [
    "rows = cur.execute(\"select * from student\")\n",
    "for i in rows:\n",
    "    print(i)"
   ]
  },
  {
   "cell_type": "markdown",
   "id": "58f8fec7",
   "metadata": {},
   "source": [
    "# IN Operator:"
   ]
  },
  {
   "cell_type": "raw",
   "id": "af591c9d",
   "metadata": {},
   "source": [
    "The IN command allows you to specify multiple values in a WHERE clause. The IN operator is a shorthand for multiple OR conditions."
   ]
  },
  {
   "cell_type": "code",
   "execution_count": 30,
   "id": "342cc1bc",
   "metadata": {},
   "outputs": [
    {
     "name": "stdout",
     "output_type": "stream",
     "text": [
      "(2, 'Smith', 11)\n",
      "(3, 'Clara', 11)\n",
      "(4, 'Jhon', 9)\n",
      "(5, 'Jack', 8)\n"
     ]
    }
   ],
   "source": [
    "rows = cur.execute(\"select * from student where age IN(8,9,11)\") # we can keep more than one vale or use IN when required to call multiple values.\n",
    "for i in rows:\n",
    "    print(i)"
   ]
  },
  {
   "cell_type": "code",
   "execution_count": 31,
   "id": "e09a8d88",
   "metadata": {},
   "outputs": [
    {
     "name": "stdout",
     "output_type": "stream",
     "text": [
      "(4, 'Jhon', 9)\n",
      "(5, 'Jack', 8)\n"
     ]
    }
   ],
   "source": [
    "rows = cur.execute(\"select * from student where sid IN(4,5)\")\n",
    "for i in rows:\n",
    "    print(i)"
   ]
  },
  {
   "cell_type": "code",
   "execution_count": 32,
   "id": "89913b13",
   "metadata": {},
   "outputs": [
    {
     "name": "stdout",
     "output_type": "stream",
     "text": [
      "(4, 'Jhon', 9)\n",
      "(6, 'Kiara', 15)\n"
     ]
    }
   ],
   "source": [
    "rows = cur.execute(\"select * from student where name IN('Jhon','Kiara')\")\n",
    "for i in rows:\n",
    "    print(i)"
   ]
  },
  {
   "cell_type": "markdown",
   "id": "e21d25cd",
   "metadata": {},
   "source": [
    "# AND, OR & NOT OPerator:"
   ]
  },
  {
   "cell_type": "raw",
   "id": "e7d75d13",
   "metadata": {},
   "source": [
    "The WHERE clause can be combined with AND, OR, and NOT operators.\n",
    "\n",
    "The AND and OR operators are used to filter records based on more than one condition:\n",
    "\n",
    "The AND operator displays a record if all the conditions separated by AND are TRUE.\n",
    "\n",
    "The OR operator displays a record if any of the conditions separated by OR is TRUE.\n",
    "\n",
    "The NOT operator displays a record if the condition(s) is NOT TRUE."
   ]
  },
  {
   "cell_type": "code",
   "execution_count": 33,
   "id": "fac03347",
   "metadata": {},
   "outputs": [
    {
     "name": "stdout",
     "output_type": "stream",
     "text": [
      "(3, 'Clara', 11)\n"
     ]
    }
   ],
   "source": [
    "rows = cur.execute(\"select * from student where name = 'Clara' and age = 11\")\n",
    "\n",
    "for i in rows:\n",
    "    print(i)"
   ]
  },
  {
   "cell_type": "raw",
   "id": "0853a53c",
   "metadata": {},
   "source": [
    "Logical OPerator : only take or understand Zero-Flase and One-True\n",
    "    \n",
    "  1. AND \n",
    "ip 1              ip2   =    op\n",
    "0-Flase         0-Flase =  0-Flase\n",
    "0-Flase         1-True  =  0-Flase\n",
    "1-True          0-Flase =  0-Flase\n",
    "1-True          1-True  =  1-True\n",
    "\n",
    "In AND operator will be working or provinding result when both inputs are True.\n",
    "\n",
    "  2. OR : here we can consider interpretation of + sing between two inputs\n",
    "    \n",
    "ip 1              ip2   =    op\n",
    "0-Flase         0-Flase =  0-Flase\n",
    "0-Flase         1-True  =  1-True\n",
    "1-True          0-Flase =  1-True\n",
    "1-True          1-True  =  1-True\n",
    "\n",
    "In OR operator will be working or provinding result when any inputs are True.\n",
    "    \n",
    "  3. NOT: Providing the data in reversal order\n",
    "    \n",
    "The truth table for the NOT operation is:\n",
    "    \n",
    "ip      =    op\n",
    "0-Flase =   1-True\n",
    "1-True  =  0-Flase\n"
   ]
  },
  {
   "cell_type": "code",
   "execution_count": 34,
   "id": "3f10a615",
   "metadata": {},
   "outputs": [
    {
     "name": "stdout",
     "output_type": "stream",
     "text": [
      "(4, 'Jhon', 9)\n",
      "(6, 'Kiara', 15)\n",
      "(7, 'Jade', 15)\n"
     ]
    }
   ],
   "source": [
    "rows = cur.execute(\"select * from student where name='Jhon' or age = 15\")\n",
    "for i in rows:\n",
    "    print(i) # poping resulting if any condition is true or only one condition is true."
   ]
  },
  {
   "cell_type": "code",
   "execution_count": 35,
   "id": "91151261",
   "metadata": {},
   "outputs": [
    {
     "name": "stdout",
     "output_type": "stream",
     "text": [
      "(1, 'Andrea', 12)\n",
      "(3, 'Clara', 11)\n",
      "(6, 'Kiara', 15)\n",
      "(7, 'Jade', 15)\n"
     ]
    }
   ],
   "source": [
    "rows = cur.execute(\"select * from student where sid NOT in(2,4,5)\")\n",
    "for i in rows:\n",
    "    print(i)"
   ]
  },
  {
   "cell_type": "code",
   "execution_count": 36,
   "id": "c1111e4f",
   "metadata": {},
   "outputs": [
    {
     "name": "stdout",
     "output_type": "stream",
     "text": [
      "(1, 'Andrea', 12)\n",
      "(2, 'Smith', 11)\n",
      "(3, 'Clara', 11)\n",
      "(4, 'Jhon', 9)\n",
      "(5, 'Jack', 8)\n",
      "(6, 'Kiara', 15)\n",
      "(7, 'Jade', 15)\n"
     ]
    }
   ],
   "source": [
    "rows = cur.execute(\"select * from student\")\n",
    "for i in rows:\n",
    "    print(i)"
   ]
  },
  {
   "cell_type": "code",
   "execution_count": 37,
   "id": "506cda4d",
   "metadata": {},
   "outputs": [],
   "source": [
    "cur.execute(\"insert into Student(sid,name,age) values(8, 'Jack', 18)\")\n",
    "dbconn.commit();"
   ]
  },
  {
   "cell_type": "code",
   "execution_count": 38,
   "id": "8d3277ec",
   "metadata": {},
   "outputs": [
    {
     "name": "stdout",
     "output_type": "stream",
     "text": [
      "(1, 'Andrea', 12)\n",
      "(2, 'Smith', 11)\n",
      "(3, 'Clara', 11)\n",
      "(4, 'Jhon', 9)\n",
      "(5, 'Jack', 8)\n",
      "(6, 'Kiara', 15)\n",
      "(7, 'Jade', 15)\n",
      "(8, 'Jack', 18)\n"
     ]
    }
   ],
   "source": [
    "rows = cur.execute(\"select * from student\")\n",
    "for i in rows:\n",
    "    print(i)"
   ]
  },
  {
   "cell_type": "markdown",
   "id": "d72764e6",
   "metadata": {},
   "source": [
    "# Create a new table inside Student_feb_database as student1"
   ]
  },
  {
   "cell_type": "markdown",
   "id": "c22079ee",
   "metadata": {},
   "source": [
    "cur.execute(\"create table student1(sid int primary key, name text, age int)\")"
   ]
  },
  {
   "cell_type": "code",
   "execution_count": 40,
   "id": "9e7845b7",
   "metadata": {
    "scrolled": true
   },
   "outputs": [],
   "source": [
    "cur.execute(\"insert into student1(sid, name, age) values(1,'Andrea',1)\")\n",
    "dbconn.commit();"
   ]
  },
  {
   "cell_type": "code",
   "execution_count": 41,
   "id": "bfd45316",
   "metadata": {},
   "outputs": [],
   "source": [
    "cur.execute(\"insert into student1(sid, name, age) values(2,'Smith',11)\")\n",
    "dbconn.commit();"
   ]
  },
  {
   "cell_type": "code",
   "execution_count": 42,
   "id": "36e99ff1",
   "metadata": {},
   "outputs": [],
   "source": [
    "cur.execute(\"insert into student1(sid, name, age) values(3, 'Jiya', 3)\")\n",
    "dbconn.commit();"
   ]
  },
  {
   "cell_type": "code",
   "execution_count": 76,
   "id": "5baf95f0",
   "metadata": {},
   "outputs": [
    {
     "name": "stdout",
     "output_type": "stream",
     "text": [
      "(1, 'Andrea', 1)\n",
      "(2, 'Smith', 11)\n",
      "(3, 'Jiya', 3)\n",
      "(4, 'Smith', 11)\n",
      "(5, 'Smith', 11)\n",
      "(6, 'Smith', 18)\n",
      "(7, 'Smith', 20)\n",
      "(8, 'Lisa', 20)\n",
      "(9, 'Edison', 20)\n"
     ]
    }
   ],
   "source": [
    "rows = cur.execute(\"select * from student1\")\n",
    "for i in rows:\n",
    "    print(i)"
   ]
  },
  {
   "cell_type": "raw",
   "id": "5ed7dd44",
   "metadata": {},
   "source": [
    "cur.execute(\"insert into student1(sid, name, age) values(4, 'Smith', 11)\")\n",
    "dbconn.commit();"
   ]
  },
  {
   "cell_type": "code",
   "execution_count": 45,
   "id": "7ceff791",
   "metadata": {},
   "outputs": [],
   "source": [
    "cur.execute(\"insert into student1(sid, name, age) values(5, 'Smith', 11)\")\n",
    "dbconn.commit();"
   ]
  },
  {
   "cell_type": "code",
   "execution_count": 46,
   "id": "564fa8b3",
   "metadata": {},
   "outputs": [
    {
     "name": "stdout",
     "output_type": "stream",
     "text": [
      "(1, 'Andrea', 1)\n",
      "(2, 'Smith', 11)\n",
      "(3, 'Jiya', 3)\n",
      "(4, 'Smith', 11)\n",
      "(5, 'Smith', 11)\n"
     ]
    }
   ],
   "source": [
    "rows = cur.execute(\"select * from student1\")\n",
    "for i in rows:\n",
    "    print(i)"
   ]
  },
  {
   "cell_type": "code",
   "execution_count": 47,
   "id": "8dcc330d",
   "metadata": {},
   "outputs": [
    {
     "name": "stdout",
     "output_type": "stream",
     "text": [
      "1 record(s) inserted\n"
     ]
    }
   ],
   "source": [
    "cur.execute(\"insert into student1(sid, name, age) values(6, 'Smith', 18)\")\n",
    "dbconn.commit();\n",
    "print(cur.rowcount,\"record(s) inserted\")"
   ]
  },
  {
   "cell_type": "code",
   "execution_count": 48,
   "id": "110dc044",
   "metadata": {},
   "outputs": [
    {
     "name": "stdout",
     "output_type": "stream",
     "text": [
      "1 record(s) inserted\n"
     ]
    }
   ],
   "source": [
    "cur.execute(\"insert into student1(sid, name, age) values(7, 'Smith', 20)\")\n",
    "dbconn.commit();\n",
    "print(cur.rowcount,\"record(s) inserted\")"
   ]
  },
  {
   "cell_type": "markdown",
   "id": "cb0d17aa",
   "metadata": {},
   "source": [
    "# Insert multiple values at a time"
   ]
  },
  {
   "cell_type": "code",
   "execution_count": 49,
   "id": "47967be3",
   "metadata": {},
   "outputs": [
    {
     "name": "stdout",
     "output_type": "stream",
     "text": [
      "2  record(s) inserted\n"
     ]
    }
   ],
   "source": [
    "cur.execute(\"insert into student1(sid, name, age) values(8,'Lisa', 20),(9, 'Edison', 20)\")\n",
    "dbconn.commit();\n",
    "print(cur.rowcount,\" record(s) inserted\")            \n",
    "            "
   ]
  },
  {
   "cell_type": "code",
   "execution_count": 50,
   "id": "c2917c6c",
   "metadata": {},
   "outputs": [
    {
     "name": "stdout",
     "output_type": "stream",
     "text": [
      "(1, 'Andrea', 1)\n",
      "(2, 'Smith', 11)\n",
      "(3, 'Jiya', 3)\n",
      "(4, 'Smith', 11)\n",
      "(5, 'Smith', 11)\n",
      "(6, 'Smith', 18)\n",
      "(7, 'Smith', 20)\n",
      "(8, 'Lisa', 20)\n",
      "(9, 'Edison', 20)\n"
     ]
    }
   ],
   "source": [
    "rows=cur.execute(\"select * from student1\")\n",
    "\n",
    "for i in rows:\n",
    "    print(i)"
   ]
  },
  {
   "cell_type": "markdown",
   "id": "0045b96d",
   "metadata": {},
   "source": [
    "# Datebasse will be created in the given location"
   ]
  },
  {
   "cell_type": "code",
   "execution_count": 51,
   "id": "b3a09bd0",
   "metadata": {},
   "outputs": [],
   "source": [
    "db1=sqlite3.connect(\"D:/MySQLite_DataBase/student1db.db\")"
   ]
  },
  {
   "cell_type": "code",
   "execution_count": 52,
   "id": "4770b544",
   "metadata": {},
   "outputs": [],
   "source": [
    "cur1=db1.cursor()"
   ]
  },
  {
   "cell_type": "code",
   "execution_count": 53,
   "id": "5f615176",
   "metadata": {},
   "outputs": [
    {
     "data": {
      "text/plain": [
       "<sqlite3.Cursor at 0x1ffbba95840>"
      ]
     },
     "execution_count": 53,
     "metadata": {},
     "output_type": "execute_result"
    }
   ],
   "source": [
    "cur1.execute(\"create table employee(id int, name text, age int)\")"
   ]
  },
  {
   "cell_type": "markdown",
   "id": "3d7aef19",
   "metadata": {},
   "source": [
    "# Values can be inter directly without declaring the header of respected item"
   ]
  },
  {
   "cell_type": "code",
   "execution_count": 54,
   "id": "734aa156",
   "metadata": {},
   "outputs": [],
   "source": [
    "cur1.execute(\"insert into employee values(1,'Melina', 32)\")\n",
    "db1.commit();"
   ]
  },
  {
   "cell_type": "code",
   "execution_count": 55,
   "id": "9b05eed0",
   "metadata": {},
   "outputs": [
    {
     "name": "stdout",
     "output_type": "stream",
     "text": [
      "1 Rocord(s) inserted\n"
     ]
    }
   ],
   "source": [
    "print(cur1.rowcount, \"Rocord(s) inserted\")"
   ]
  },
  {
   "cell_type": "code",
   "execution_count": 56,
   "id": "4d95c5d0",
   "metadata": {},
   "outputs": [],
   "source": [
    "results = cur1.execute(\"select * from employee\")"
   ]
  },
  {
   "cell_type": "code",
   "execution_count": 57,
   "id": "ddb7cecb",
   "metadata": {},
   "outputs": [
    {
     "name": "stdout",
     "output_type": "stream",
     "text": [
      "(1, 'Melina', 32)\n"
     ]
    }
   ],
   "source": [
    "for row in results:\n",
    "    print(row)"
   ]
  },
  {
   "cell_type": "markdown",
   "id": "dc15f947",
   "metadata": {},
   "source": [
    "# Where clause"
   ]
  },
  {
   "cell_type": "code",
   "execution_count": 58,
   "id": "3ce4b1b8",
   "metadata": {},
   "outputs": [
    {
     "name": "stdout",
     "output_type": "stream",
     "text": [
      "(1, 'Andrea', 12)\n"
     ]
    }
   ],
   "source": [
    "results = cur.execute(\"select * from student where sid=1\")\n",
    "for i in results:\n",
    "    print(i)"
   ]
  },
  {
   "cell_type": "code",
   "execution_count": 59,
   "id": "dd53f07c",
   "metadata": {},
   "outputs": [
    {
     "name": "stdout",
     "output_type": "stream",
     "text": [
      "(2, 'Smith', 11)\n"
     ]
    }
   ],
   "source": [
    "results = cur.execute(\"select *from student where sid=2\")\n",
    "\n",
    "for i in results:\n",
    "    print(i)"
   ]
  },
  {
   "cell_type": "markdown",
   "id": "3a887eba",
   "metadata": {},
   "source": [
    "# limit"
   ]
  },
  {
   "cell_type": "code",
   "execution_count": 60,
   "id": "c0926637",
   "metadata": {},
   "outputs": [
    {
     "name": "stdout",
     "output_type": "stream",
     "text": [
      "(1, 'Andrea', 12)\n",
      "(2, 'Smith', 11)\n",
      "(3, 'Clara', 11)\n"
     ]
    }
   ],
   "source": [
    "results = cur.execute(\"select * from student limit 3\")\n",
    "for i  in results:\n",
    "    print(i)"
   ]
  },
  {
   "cell_type": "code",
   "execution_count": 61,
   "id": "5f284da7",
   "metadata": {},
   "outputs": [
    {
     "name": "stdout",
     "output_type": "stream",
     "text": [
      "(1, 'Andrea', 1)\n",
      "(2, 'Smith', 11)\n",
      "(3, 'Jiya', 3)\n",
      "(4, 'Smith', 11)\n",
      "(5, 'Smith', 11)\n"
     ]
    }
   ],
   "source": [
    "results = cur.execute(\"select * from student1 limit 5\")\n",
    "for i in results:\n",
    "    print(i)"
   ]
  },
  {
   "cell_type": "markdown",
   "id": "7b1f923f",
   "metadata": {},
   "source": [
    "# fetchall will display all rows----fetch all display the ouput in list"
   ]
  },
  {
   "cell_type": "code",
   "execution_count": 62,
   "id": "f47797a4",
   "metadata": {},
   "outputs": [
    {
     "data": {
      "text/plain": [
       "[(1, 'Andrea', 12),\n",
       " (2, 'Smith', 11),\n",
       " (3, 'Clara', 11),\n",
       " (4, 'Jhon', 9),\n",
       " (5, 'Jack', 8),\n",
       " (6, 'Kiara', 15),\n",
       " (7, 'Jade', 15),\n",
       " (8, 'Jack', 18)]"
      ]
     },
     "execution_count": 62,
     "metadata": {},
     "output_type": "execute_result"
    }
   ],
   "source": [
    "results = cur.execute('select * from student')\n",
    "results.fetchall()"
   ]
  },
  {
   "cell_type": "markdown",
   "id": "72227c17",
   "metadata": {},
   "source": [
    "# fetchone"
   ]
  },
  {
   "cell_type": "code",
   "execution_count": 66,
   "id": "c5d98088",
   "metadata": {},
   "outputs": [
    {
     "data": {
      "text/plain": [
       "<sqlite3.Cursor at 0x1ffbba95840>"
      ]
     },
     "execution_count": 66,
     "metadata": {},
     "output_type": "execute_result"
    }
   ],
   "source": [
    "cur1.execute(\"create table student(id int, name text, age int)\")"
   ]
  },
  {
   "cell_type": "code",
   "execution_count": 79,
   "id": "e4a1fa1b",
   "metadata": {},
   "outputs": [
    {
     "ename": "OperationalError",
     "evalue": "no such column: sid",
     "output_type": "error",
     "traceback": [
      "\u001b[1;31m---------------------------------------------------------------------------\u001b[0m",
      "\u001b[1;31mOperationalError\u001b[0m                          Traceback (most recent call last)",
      "Cell \u001b[1;32mIn[79], line 1\u001b[0m\n\u001b[1;32m----> 1\u001b[0m rows\u001b[38;5;241m=\u001b[39m\u001b[43mcur1\u001b[49m\u001b[38;5;241;43m.\u001b[39;49m\u001b[43mexecute\u001b[49m\u001b[43m(\u001b[49m\u001b[38;5;124;43m\"\u001b[39;49m\u001b[38;5;124;43mselect * from student1 where sid=2\u001b[39;49m\u001b[38;5;124;43m\"\u001b[39;49m\u001b[43m)\u001b[49m\n\u001b[0;32m      2\u001b[0m rows\u001b[38;5;241m.\u001b[39mfetchone()\n",
      "\u001b[1;31mOperationalError\u001b[0m: no such column: sid"
     ]
    }
   ],
   "source": [
    "rows=cur1.execute(\"select * from student1 where sid=2\")\n",
    "rows.fetchone()"
   ]
  },
  {
   "cell_type": "code",
   "execution_count": 80,
   "id": "3250664c",
   "metadata": {},
   "outputs": [],
   "source": [
    "rows=cur1.execute(\"select * from student1 where age=11\")\n",
    "rows.fetchone()"
   ]
  },
  {
   "cell_type": "code",
   "execution_count": 81,
   "id": "26b09a6d",
   "metadata": {},
   "outputs": [
    {
     "data": {
      "text/plain": [
       "[]"
      ]
     },
     "execution_count": 81,
     "metadata": {},
     "output_type": "execute_result"
    }
   ],
   "source": [
    "rows=cur1.execute(\"select * from student1 where age=11\")\n",
    "rows.fetchall()"
   ]
  },
  {
   "cell_type": "markdown",
   "id": "c033783d",
   "metadata": {},
   "source": [
    "# Order by clause"
   ]
  },
  {
   "cell_type": "raw",
   "id": "18b43cf2",
   "metadata": {},
   "source": [
    "The ORDER BY keyword sorts the records in ascending order by default. To sort the records in descending order, use the DESC keyword"
   ]
  },
  {
   "cell_type": "code",
   "execution_count": 82,
   "id": "b33b0f5f",
   "metadata": {},
   "outputs": [
    {
     "data": {
      "text/plain": [
       "[(1, 'Andrea', 12),\n",
       " (3, 'Clara', 11),\n",
       " (5, 'Jack', 8),\n",
       " (8, 'Jack', 18),\n",
       " (7, 'Jade', 15),\n",
       " (4, 'Jhon', 9),\n",
       " (6, 'Kiara', 15),\n",
       " (2, 'Smith', 11)]"
      ]
     },
     "execution_count": 82,
     "metadata": {},
     "output_type": "execute_result"
    }
   ],
   "source": [
    "results = cur.execute(\"select * from student order by name\")\n",
    "#The ORDER BY keyword sorts the records in ascending order by default.\n",
    "results.fetchall()"
   ]
  },
  {
   "cell_type": "code",
   "execution_count": 83,
   "id": "b4f60131",
   "metadata": {},
   "outputs": [
    {
     "data": {
      "text/plain": [
       "[(1, 'Andrea', 12),\n",
       " (3, 'Clara', 11),\n",
       " (5, 'Jack', 8),\n",
       " (8, 'Jack', 18),\n",
       " (7, 'Jade', 15),\n",
       " (4, 'Jhon', 9),\n",
       " (6, 'Kiara', 15),\n",
       " (2, 'Smith', 11)]"
      ]
     },
     "execution_count": 83,
     "metadata": {},
     "output_type": "execute_result"
    }
   ],
   "source": [
    "results = cur.execute(\"select * from student order by name asc\")\n",
    "\n",
    "results.fetchall()"
   ]
  },
  {
   "cell_type": "code",
   "execution_count": 84,
   "id": "7c876fa6",
   "metadata": {},
   "outputs": [
    {
     "data": {
      "text/plain": [
       "<sqlite3.Cursor at 0x1ffbb48c540>"
      ]
     },
     "execution_count": 84,
     "metadata": {},
     "output_type": "execute_result"
    }
   ],
   "source": [
    "cur.execute(\"create table student4 (id int primary key, name text, marks float)\")"
   ]
  },
  {
   "cell_type": "code",
   "execution_count": 85,
   "id": "0b07e4df",
   "metadata": {},
   "outputs": [],
   "source": [
    "cur.execute(\"insert into student4(id, name, marks) values(121, 'Anu', 60) \")\n",
    "dbconn.commit();"
   ]
  },
  {
   "cell_type": "code",
   "execution_count": 86,
   "id": "2d18c949",
   "metadata": {},
   "outputs": [],
   "source": [
    "cur.execute(\"insert into student4(id, name, marks) values(122, 'Anu', 70) \")\n",
    "dbconn.commit();"
   ]
  },
  {
   "cell_type": "code",
   "execution_count": 87,
   "id": "d9455827",
   "metadata": {},
   "outputs": [],
   "source": [
    "cur.execute(\"insert into student4(id, name, marks) values(123, 'Rima', 86) \")\n",
    "dbconn.commit();"
   ]
  },
  {
   "cell_type": "code",
   "execution_count": 88,
   "id": "f15d9d3f",
   "metadata": {},
   "outputs": [],
   "source": [
    "cur.execute(\"insert into student4(id, name, marks) values(124, 'siva', 78) \")\n",
    "dbconn.commit();"
   ]
  },
  {
   "cell_type": "code",
   "execution_count": 89,
   "id": "42a6e13f",
   "metadata": {},
   "outputs": [],
   "source": [
    "cur.execute(\"insert into student4(id, name, marks) values(125, 'Rohan', 95) \")\n",
    "dbconn.commit();"
   ]
  },
  {
   "cell_type": "code",
   "execution_count": 90,
   "id": "d23b413b",
   "metadata": {},
   "outputs": [],
   "source": [
    "cur.execute(\"insert into student4(id, name, marks) values(126, 'Mintu', 88) \")\n",
    "dbconn.commit();"
   ]
  },
  {
   "cell_type": "code",
   "execution_count": 91,
   "id": "58d40710",
   "metadata": {},
   "outputs": [
    {
     "name": "stdout",
     "output_type": "stream",
     "text": [
      "(121, 'Anu', 60.0)\n",
      "(122, 'Anu', 70.0)\n",
      "(123, 'Rima', 86.0)\n",
      "(124, 'siva', 78.0)\n",
      "(125, 'Rohan', 95.0)\n",
      "(126, 'Mintu', 88.0)\n"
     ]
    }
   ],
   "source": [
    "rows= cur.execute(\"Select * from student4\")\n",
    "\n",
    "for i in rows:\n",
    "    print(i)"
   ]
  },
  {
   "cell_type": "markdown",
   "id": "49d1f650",
   "metadata": {},
   "source": [
    "# Aggregate functions"
   ]
  },
  {
   "cell_type": "raw",
   "id": "d148d939",
   "metadata": {},
   "source": [
    "MIN---find minimumn\n",
    "MAX---find maximum\n",
    "AVG---find average\n",
    "SUM---find sum\n",
    "COUNT--- count the number of rows"
   ]
  },
  {
   "cell_type": "code",
   "execution_count": 92,
   "id": "58b2b10d",
   "metadata": {},
   "outputs": [
    {
     "name": "stdout",
     "output_type": "stream",
     "text": [
      "(60.0,)\n"
     ]
    }
   ],
   "source": [
    "#find the minimumn marks\n",
    "resultd=cur.execute(\"Select min(marks) from student4\")\n",
    "\n",
    "for i in results:\n",
    "    print(i)"
   ]
  },
  {
   "cell_type": "code",
   "execution_count": 93,
   "id": "64245df8",
   "metadata": {},
   "outputs": [
    {
     "name": "stdout",
     "output_type": "stream",
     "text": [
      "(95.0,)\n"
     ]
    }
   ],
   "source": [
    "#find maximum marks\n",
    "resultd=cur.execute(\"Select max(marks) from student4\")\n",
    "\n",
    "for i in results:\n",
    "    print(i)"
   ]
  },
  {
   "cell_type": "code",
   "execution_count": 94,
   "id": "5415f836",
   "metadata": {},
   "outputs": [
    {
     "name": "stdout",
     "output_type": "stream",
     "text": [
      "(79.5,)\n"
     ]
    }
   ],
   "source": [
    "#find avg marks\n",
    "resultd=cur.execute(\"Select avg(marks) from student4\")\n",
    "\n",
    "for i in results:\n",
    "    print(i)"
   ]
  },
  {
   "cell_type": "code",
   "execution_count": 95,
   "id": "9c63eeec",
   "metadata": {},
   "outputs": [
    {
     "name": "stdout",
     "output_type": "stream",
     "text": [
      "(8,)\n"
     ]
    }
   ],
   "source": [
    "rows=cur.execute(\"select min(age) from student\")\n",
    "for i in rows:\n",
    "    print(i)"
   ]
  },
  {
   "cell_type": "code",
   "execution_count": 96,
   "id": "d534643c",
   "metadata": {},
   "outputs": [
    {
     "name": "stdout",
     "output_type": "stream",
     "text": [
      "(18,)\n"
     ]
    }
   ],
   "source": [
    "rows=cur.execute(\"select max(age) from student\")\n",
    "for i in rows:\n",
    "    print(i)"
   ]
  },
  {
   "cell_type": "code",
   "execution_count": 97,
   "id": "f95e4b30",
   "metadata": {},
   "outputs": [
    {
     "name": "stdout",
     "output_type": "stream",
     "text": [
      "(12.375,)\n"
     ]
    }
   ],
   "source": [
    "rows=cur.execute(\"select avg(age) from student\")\n",
    "for i in rows:\n",
    "    print(i)"
   ]
  },
  {
   "cell_type": "code",
   "execution_count": 98,
   "id": "befe3957",
   "metadata": {},
   "outputs": [
    {
     "name": "stdout",
     "output_type": "stream",
     "text": [
      "(99,)\n"
     ]
    }
   ],
   "source": [
    "rows=cur.execute(\"select sum(age) from student\")\n",
    "for i in rows:\n",
    "    print(i)"
   ]
  },
  {
   "cell_type": "code",
   "execution_count": 99,
   "id": "aaeadb1c",
   "metadata": {},
   "outputs": [
    {
     "data": {
      "text/plain": [
       "(8,)"
      ]
     },
     "execution_count": 99,
     "metadata": {},
     "output_type": "execute_result"
    }
   ],
   "source": [
    "rows=cur.execute(\"select count(age) from student\")\n",
    "rows.fetchone()"
   ]
  },
  {
   "cell_type": "markdown",
   "id": "9f70b96c",
   "metadata": {},
   "source": [
    "# Null values"
   ]
  },
  {
   "cell_type": "raw",
   "id": "877bfe44",
   "metadata": {},
   "source": [
    "A field with a NULL value is a field with no value.\n",
    "\n",
    "If a field in a table is optional, it is possible to insert a new record or update a record without adding a value to this field. Then, the field will be saved with a NULL value.\n",
    "\n",
    "Note: A NULL value is different from a zero value or a field that contains spaces. A field with a NULL value is one that has been left blank during record creation!"
   ]
  },
  {
   "cell_type": "code",
   "execution_count": 100,
   "id": "427a61db",
   "metadata": {},
   "outputs": [
    {
     "data": {
      "text/plain": [
       "[]"
      ]
     },
     "execution_count": 100,
     "metadata": {},
     "output_type": "execute_result"
    }
   ],
   "source": [
    "results = cur.execute(\"select * from student4 where marks is null\")\n",
    "\n",
    "results.fetchall() # here output is blank list as there is no null data"
   ]
  },
  {
   "cell_type": "code",
   "execution_count": 101,
   "id": "63bb0c7a",
   "metadata": {},
   "outputs": [],
   "source": [
    "results = cur.execute(\"select * from student4 where marks is null\")\n",
    "\n",
    "for i in results:\n",
    "    print(i) # here output is nozt showing as there is no null data"
   ]
  },
  {
   "cell_type": "code",
   "execution_count": 102,
   "id": "4655aa65",
   "metadata": {},
   "outputs": [
    {
     "data": {
      "text/plain": [
       "[(121, 'Anu', 60.0),\n",
       " (122, 'Anu', 70.0),\n",
       " (123, 'Rima', 86.0),\n",
       " (124, 'siva', 78.0),\n",
       " (125, 'Rohan', 95.0),\n",
       " (126, 'Mintu', 88.0)]"
      ]
     },
     "execution_count": 102,
     "metadata": {},
     "output_type": "execute_result"
    }
   ],
   "source": [
    "results = cur.execute(\"select * from student4 where marks is not null\")\n",
    "\n",
    "results.fetchall()"
   ]
  },
  {
   "cell_type": "markdown",
   "id": "70e64453",
   "metadata": {},
   "source": [
    "# Like operators"
   ]
  },
  {
   "cell_type": "raw",
   "id": "43115724",
   "metadata": {},
   "source": [
    "The LIKE operator is used in a WHERE clause to search for a specified pattern in a column.\n",
    "\n",
    "There are two wildcards often used in conjunction with the LIKE operator:\n",
    "\n",
    " The percent sign (%) represents zero, one, or multiple characters\n",
    " The underscore sign (_) represents one, single character"
   ]
  },
  {
   "cell_type": "code",
   "execution_count": 103,
   "id": "65978062",
   "metadata": {},
   "outputs": [
    {
     "data": {
      "text/plain": [
       "[(121, 'Anu', 60.0), (122, 'Anu', 70.0)]"
      ]
     },
     "execution_count": 103,
     "metadata": {},
     "output_type": "execute_result"
    }
   ],
   "source": [
    "results = cur.execute(\"select * from student4 where name like 'A%'\")\n",
    "resultd.fetchall()"
   ]
  },
  {
   "cell_type": "code",
   "execution_count": 104,
   "id": "eb30fbce",
   "metadata": {},
   "outputs": [
    {
     "name": "stdout",
     "output_type": "stream",
     "text": [
      "(123, 'Rima', 86.0)\n",
      "(125, 'Rohan', 95.0)\n"
     ]
    }
   ],
   "source": [
    "results = cur.execute(\"select * from student4 where name like 'R%'\")\n",
    "for i in results:\n",
    "    print(i)"
   ]
  },
  {
   "cell_type": "markdown",
   "id": "fc285cd2",
   "metadata": {},
   "source": [
    "#        LIKE Opera          \t     Description"
   ]
  },
  {
   "cell_type": "raw",
   "id": "fb38bb34",
   "metadata": {},
   "source": [
    "\n",
    "WHERE CustomerName LIKE 'a%'\tFinds any values that start with \"a\"\n",
    "\n",
    "WHERE CustomerName LIKE '%a'\tFinds any values that end with \"a\"\n",
    "\n",
    "WHERE CustomerName LIKE '%or%'\tFinds any values that have \"or\" in any position\n",
    "\n",
    "WHERE CustomerName LIKE '_r%'\tFinds any values that have \"r\" in the second position\n",
    "\n",
    "WHERE CustomerName LIKE 'a_%'\tFinds any values that start with \"a\" and are at least 2 characters in length\n",
    "\n",
    "WHERE CustomerName LIKE 'a__%'\tFinds any values that start with \"a\" and are at least 3 characters in length\n",
    "\n",
    "WHERE ContactName LIKE 'a%o'\tFinds any values that start with \"a\" and ends with \"o\""
   ]
  },
  {
   "cell_type": "code",
   "execution_count": 105,
   "id": "592142d6",
   "metadata": {},
   "outputs": [
    {
     "name": "stdout",
     "output_type": "stream",
     "text": [
      "(121, 'Anu', 60.0)\n",
      "(122, 'Anu', 70.0)\n"
     ]
    }
   ],
   "source": [
    "results = cur.execute(\"select * from student4 where name like '_n%'\")\n",
    "for i in results:\n",
    "    print(i)"
   ]
  },
  {
   "cell_type": "code",
   "execution_count": 106,
   "id": "96791ffa",
   "metadata": {},
   "outputs": [
    {
     "name": "stdout",
     "output_type": "stream",
     "text": [
      "(121, 'Anu', 60.0)\n",
      "(122, 'Anu', 70.0)\n",
      "(123, 'Rima', 86.0)\n",
      "(124, 'siva', 78.0)\n",
      "(125, 'Rohan', 95.0)\n",
      "(126, 'Mintu', 88.0)\n"
     ]
    }
   ],
   "source": [
    "results = cur.execute(\"select * from student4\")\n",
    "for i in results:\n",
    "    print(i)"
   ]
  },
  {
   "cell_type": "code",
   "execution_count": 107,
   "id": "16c95b14",
   "metadata": {},
   "outputs": [
    {
     "data": {
      "text/plain": [
       "[(1, 'Andrea', 12),\n",
       " (3, 'Clara', 11),\n",
       " (5, 'Jack', 8),\n",
       " (6, 'Kiara', 15),\n",
       " (7, 'Jade', 15),\n",
       " (8, 'Jack', 18)]"
      ]
     },
     "execution_count": 107,
     "metadata": {},
     "output_type": "execute_result"
    }
   ],
   "source": [
    "results = cur.execute(\"select * from student where name Like '%a%'\")\n",
    "results.fetchall()"
   ]
  },
  {
   "cell_type": "code",
   "execution_count": 108,
   "id": "e145d6bc",
   "metadata": {},
   "outputs": [
    {
     "data": {
      "text/plain": [
       "[(121, 'Anu', 60.0), (122, 'Anu', 70.0)]"
      ]
     },
     "execution_count": 108,
     "metadata": {},
     "output_type": "execute_result"
    }
   ],
   "source": [
    "results = cur.execute(\"select * from student4 where name Like '___'\")\n",
    "results.fetchall()"
   ]
  },
  {
   "cell_type": "code",
   "execution_count": 109,
   "id": "49c91960",
   "metadata": {},
   "outputs": [
    {
     "data": {
      "text/plain": [
       "[(2, 'Smith', 11), (3, 'Clara', 11), (6, 'Kiara', 15)]"
      ]
     },
     "execution_count": 109,
     "metadata": {},
     "output_type": "execute_result"
    }
   ],
   "source": [
    "results = cur.execute(\"select * from student where name Like '_____'\")\n",
    "results.fetchall()"
   ]
  },
  {
   "cell_type": "code",
   "execution_count": 110,
   "id": "1a8e7cfe",
   "metadata": {},
   "outputs": [
    {
     "data": {
      "text/plain": [
       "[(4, 'Jhon', 9), (5, 'Jack', 8), (7, 'Jade', 15), (8, 'Jack', 18)]"
      ]
     },
     "execution_count": 110,
     "metadata": {},
     "output_type": "execute_result"
    }
   ],
   "source": [
    "results = cur.execute(\"select * from student where name Like '%j___'\")\n",
    "results.fetchall()"
   ]
  },
  {
   "cell_type": "code",
   "execution_count": 111,
   "id": "c894b3b8",
   "metadata": {},
   "outputs": [
    {
     "data": {
      "text/plain": [
       "[(5, 'Jack', 8), (7, 'Jade', 15), (8, 'Jack', 18)]"
      ]
     },
     "execution_count": 111,
     "metadata": {},
     "output_type": "execute_result"
    }
   ],
   "source": [
    "results = cur.execute(\"select * from student where name Like '_a%'\")\n",
    "results.fetchall()"
   ]
  },
  {
   "cell_type": "code",
   "execution_count": 112,
   "id": "afa2141e",
   "metadata": {},
   "outputs": [
    {
     "data": {
      "text/plain": [
       "[(121, 'Anu', 60.0), (122, 'Anu', 70.0)]"
      ]
     },
     "execution_count": 112,
     "metadata": {},
     "output_type": "execute_result"
    }
   ],
   "source": [
    "results = cur.execute(\"select * from student4 where name Like '_n%'\")\n",
    "results.fetchall()"
   ]
  },
  {
   "cell_type": "code",
   "execution_count": 113,
   "id": "fd963273",
   "metadata": {},
   "outputs": [
    {
     "data": {
      "text/plain": [
       "[(125, 'Rohan', 95.0)]"
      ]
     },
     "execution_count": 113,
     "metadata": {},
     "output_type": "execute_result"
    }
   ],
   "source": [
    "results = cur.execute(\"select * from student4 where name Like '%n'\")\n",
    "results.fetchall()"
   ]
  },
  {
   "cell_type": "code",
   "execution_count": 114,
   "id": "d5b2bfc3",
   "metadata": {},
   "outputs": [
    {
     "data": {
      "text/plain": [
       "[(121, 'Anu', 60.0),\n",
       " (122, 'Anu', 70.0),\n",
       " (125, 'Rohan', 95.0),\n",
       " (126, 'Mintu', 88.0)]"
      ]
     },
     "execution_count": 114,
     "metadata": {},
     "output_type": "execute_result"
    }
   ],
   "source": [
    "results = cur.execute(\"select * from student4 where name Like '%n%'\")\n",
    "results.fetchall()"
   ]
  },
  {
   "cell_type": "code",
   "execution_count": 115,
   "id": "af726170",
   "metadata": {},
   "outputs": [
    {
     "data": {
      "text/plain": [
       "[(121, 'Anu', 60.0),\n",
       " (122, 'Anu', 70.0),\n",
       " (123, 'Rima', 86.0),\n",
       " (124, 'siva', 78.0),\n",
       " (125, 'Rohan', 95.0),\n",
       " (126, 'Mintu', 88.0)]"
      ]
     },
     "execution_count": 115,
     "metadata": {},
     "output_type": "execute_result"
    }
   ],
   "source": [
    "results = cur.execute(\"select * from student4 where name NOT in('Ro')\")\n",
    "results.fetchall()   "
   ]
  },
  {
   "cell_type": "markdown",
   "id": "acfce5be",
   "metadata": {},
   "source": [
    "# Update"
   ]
  },
  {
   "cell_type": "code",
   "execution_count": 116,
   "id": "bf8de1ba",
   "metadata": {},
   "outputs": [
    {
     "data": {
      "text/plain": [
       "<sqlite3.Cursor at 0x1ffbb48c540>"
      ]
     },
     "execution_count": 116,
     "metadata": {},
     "output_type": "execute_result"
    }
   ],
   "source": [
    "sql=\"Update student set age = 50 where sid=6\"\n",
    "cur.execute(sql)"
   ]
  },
  {
   "cell_type": "code",
   "execution_count": 117,
   "id": "e7868fe2",
   "metadata": {},
   "outputs": [
    {
     "name": "stdout",
     "output_type": "stream",
     "text": [
      "(1, 'Andrea', 12)\n",
      "(2, 'Smith', 11)\n",
      "(3, 'Clara', 11)\n",
      "(4, 'Jhon', 9)\n",
      "(5, 'Jack', 8)\n",
      "(6, 'Kiara', 50)\n",
      "(7, 'Jade', 15)\n",
      "(8, 'Jack', 18)\n"
     ]
    }
   ],
   "source": [
    "rows=cur.execute(\"select * from student\")\n",
    "for i in rows:\n",
    "    print(i)"
   ]
  },
  {
   "cell_type": "code",
   "execution_count": 118,
   "id": "f51e9c7d",
   "metadata": {},
   "outputs": [
    {
     "data": {
      "text/plain": [
       "<sqlite3.Cursor at 0x1ffbb48c540>"
      ]
     },
     "execution_count": 118,
     "metadata": {},
     "output_type": "execute_result"
    }
   ],
   "source": [
    "sql=\"update student4 set marks=92 where id in(121,122)\"\n",
    "cur.execute(sql)"
   ]
  },
  {
   "cell_type": "code",
   "execution_count": 119,
   "id": "4ce906cf",
   "metadata": {},
   "outputs": [
    {
     "name": "stdout",
     "output_type": "stream",
     "text": [
      "(121, 'Anu', 92.0)\n",
      "(122, 'Anu', 92.0)\n",
      "(123, 'Rima', 86.0)\n",
      "(124, 'siva', 78.0)\n",
      "(125, 'Rohan', 95.0)\n",
      "(126, 'Mintu', 88.0)\n"
     ]
    }
   ],
   "source": [
    "rows= cur.execute(\"select * from student4\")\n",
    "for i in rows:\n",
    "    print(i)"
   ]
  },
  {
   "cell_type": "markdown",
   "id": "189060f7",
   "metadata": {},
   "source": [
    "# Delete : delete any unwanted records"
   ]
  },
  {
   "cell_type": "code",
   "execution_count": 120,
   "id": "8c908bc8",
   "metadata": {},
   "outputs": [
    {
     "data": {
      "text/plain": [
       "[(121, 'Anu', 92.0),\n",
       " (122, 'Anu', 92.0),\n",
       " (123, 'Rima', 86.0),\n",
       " (125, 'Rohan', 95.0),\n",
       " (126, 'Mintu', 88.0)]"
      ]
     },
     "execution_count": 120,
     "metadata": {},
     "output_type": "execute_result"
    }
   ],
   "source": [
    "sql = \"delete from student4 where id=124\"\n",
    "\n",
    "cur.execute(sql)\n",
    "\n",
    "results = cur.execute(\"select * from student4\")\n",
    "results.fetchall()"
   ]
  },
  {
   "cell_type": "markdown",
   "id": "6145858b",
   "metadata": {},
   "source": [
    "# Drop table Student4"
   ]
  },
  {
   "cell_type": "code",
   "execution_count": 121,
   "id": "775dbb07",
   "metadata": {},
   "outputs": [
    {
     "ename": "OperationalError",
     "evalue": "no such table: student4",
     "output_type": "error",
     "traceback": [
      "\u001b[1;31m---------------------------------------------------------------------------\u001b[0m",
      "\u001b[1;31mOperationalError\u001b[0m                          Traceback (most recent call last)",
      "Cell \u001b[1;32mIn[121], line 4\u001b[0m\n\u001b[0;32m      1\u001b[0m sql \u001b[38;5;241m=\u001b[39m \u001b[38;5;124m\"\u001b[39m\u001b[38;5;124mdrop table student4 \u001b[39m\u001b[38;5;124m\"\u001b[39m\n\u001b[0;32m      2\u001b[0m cur\u001b[38;5;241m.\u001b[39mexecute(sql)\n\u001b[1;32m----> 4\u001b[0m results \u001b[38;5;241m=\u001b[39m \u001b[43mcur\u001b[49m\u001b[38;5;241;43m.\u001b[39;49m\u001b[43mexecute\u001b[49m\u001b[43m(\u001b[49m\u001b[38;5;124;43m\"\u001b[39;49m\u001b[38;5;124;43mselect * from student4\u001b[39;49m\u001b[38;5;124;43m\"\u001b[39;49m\u001b[43m)\u001b[49m\n\u001b[0;32m      5\u001b[0m results\u001b[38;5;241m.\u001b[39mfetchall()\n",
      "\u001b[1;31mOperationalError\u001b[0m: no such table: student4"
     ]
    }
   ],
   "source": [
    "sql = \"drop table student4 \"\n",
    "cur.execute(sql)\n",
    "\n",
    "results = cur.execute(\"select * from student4\")\n",
    "results.fetchall()"
   ]
  },
  {
   "cell_type": "code",
   "execution_count": 122,
   "id": "b97cf3a2",
   "metadata": {},
   "outputs": [],
   "source": [
    "dbconn.close()"
   ]
  },
  {
   "cell_type": "markdown",
   "id": "d69bd980",
   "metadata": {},
   "source": [
    "# Adding data in table with csv(common separated values) file directiy"
   ]
  },
  {
   "cell_type": "code",
   "execution_count": 123,
   "id": "03d75a8e",
   "metadata": {},
   "outputs": [],
   "source": [
    "import sqlite3"
   ]
  },
  {
   "cell_type": "code",
   "execution_count": 124,
   "id": "0198df99",
   "metadata": {},
   "outputs": [],
   "source": [
    " db = sqlite3.connect(\"D:/MySQLite_DataBase/scores_database.db\")\n",
    "    \n",
    "#Declare cursor\n",
    "\n",
    "cursor = db.cursor()"
   ]
  },
  {
   "cell_type": "code",
   "execution_count": 125,
   "id": "e2aaa731",
   "metadata": {},
   "outputs": [
    {
     "data": {
      "text/plain": [
       "<sqlite3.Cursor at 0x1ffbbaf0fc0>"
      ]
     },
     "execution_count": 125,
     "metadata": {},
     "output_type": "execute_result"
    }
   ],
   "source": [
    "#Create table \n",
    "\n",
    "cursor.execute(\"create table scores(gender text, student_id int primary key, marks int)\")"
   ]
  },
  {
   "cell_type": "code",
   "execution_count": 126,
   "id": "8d1f17c1",
   "metadata": {},
   "outputs": [],
   "source": [
    "#sql = \"drop table scores \"\n",
    "#cursor.execute(sql)\n",
    "\n",
    "#results = cursor.execute(\"select * from scores\")\n",
    "#results.fetchall()'"
   ]
  },
  {
   "cell_type": "code",
   "execution_count": 127,
   "id": "edc5450e",
   "metadata": {},
   "outputs": [
    {
     "name": "stdout",
     "output_type": "stream",
     "text": [
      "1 Record(s) inserted\n"
     ]
    }
   ],
   "source": [
    "# Insert records into the table. (single record inserting)\n",
    "cursor.execute(\"insert into scores(gender, student_id, marks) values('Male', 100, 55)\")\n",
    "\n",
    "# Save the records permanently. ( if we don't commit, next time we will not see the records in the table)\n",
    "\n",
    "db.commit()\n",
    "\n",
    "# count of the record inserted\n",
    "\n",
    "print(cursor.rowcount, \"Record(s) inserted\")"
   ]
  },
  {
   "cell_type": "markdown",
   "id": "9b8b3b77",
   "metadata": {},
   "source": [
    "# Inserting records from csv file"
   ]
  },
  {
   "cell_type": "raw",
   "id": "b8e2c93c",
   "metadata": {},
   "source": [
    "Unlike open() where you have to close the file with the close() method, the with statement closes the file for you without you telling it to.\n",
    "\n",
    "This is because the with statement calls 2 built-in methods behind the scene – __enter()__ and __exit()__.\n",
    "\n",
    "The __exit()__ method closes the file when the operation you specify is done."
   ]
  },
  {
   "cell_type": "code",
   "execution_count": 128,
   "id": "225c72d0",
   "metadata": {},
   "outputs": [
    {
     "name": "stdout",
     "output_type": "stream",
     "text": [
      "17 Records inserted\n"
     ]
    }
   ],
   "source": [
    "# whenever we are opening the file we neeed the handler aand here file is handler\n",
    "\n",
    "# Handler means through which we can handle the entire file data.\n",
    "\n",
    "with open('Scores_file.csv', 'r') as file:   #file: is here handler\n",
    "    total_records=0\n",
    "    for row in file:\n",
    "        cursor.execute(\"insert into scores values(?,?,?)\", row.split(\",\"))\n",
    "        db.commit()\n",
    "        total_records +=1\n",
    "print(total_records, 'Records inserted')"
   ]
  },
  {
   "cell_type": "raw",
   "id": "9d538045",
   "metadata": {},
   "source": [
    "(?,?,?) : Here question marks denotes the dynamic mode run-time value. we are calling dynamic mode as the ? mark as it will take or consider different types of values.\n",
    "\n",
    "Here we are entrying string and int and type of values can be insert if we are using the ?."
   ]
  },
  {
   "cell_type": "code",
   "execution_count": 129,
   "id": "6af470cb",
   "metadata": {},
   "outputs": [
    {
     "name": "stdout",
     "output_type": "stream",
     "text": [
      "('Male', 100, 55)\n",
      "('Male', 104, 56)\n",
      "('Male', 105, 78)\n",
      "('Female', 106, 36)\n",
      "('Male', 107, 20)\n",
      "('Female', 108, 98)\n",
      "('Male', 109, 85)\n",
      "('Female', 110, 69)\n",
      "('Male', 111, 46)\n",
      "('Female', 112, 66)\n",
      "('Male', 113, 91)\n",
      "('Male', 114, 48)\n",
      "('Male', 115, 56)\n",
      "('Female', 116, 67)\n",
      "('Male', 117, 78)\n",
      "('Male', 118, 89)\n",
      "('Male', 119, 32)\n",
      "('Female', 120, 44)\n"
     ]
    }
   ],
   "source": [
    "result = cursor.execute(\"select * from scores\")\n",
    "for row in result:\n",
    "    print(row)"
   ]
  },
  {
   "cell_type": "code",
   "execution_count": 130,
   "id": "94ac2973",
   "metadata": {},
   "outputs": [
    {
     "data": {
      "text/plain": [
       "<sqlite3.Cursor at 0x1ffbbaf0fc0>"
      ]
     },
     "execution_count": 130,
     "metadata": {},
     "output_type": "execute_result"
    }
   ],
   "source": [
    "#Create table \n",
    "\n",
    "cursor.execute(\"create table scores1(gender text, student_id int primary key, marks int)\")"
   ]
  },
  {
   "cell_type": "code",
   "execution_count": 131,
   "id": "08ae3015",
   "metadata": {},
   "outputs": [
    {
     "ename": "ProgrammingError",
     "evalue": "Incorrect number of bindings supplied. The current statement uses 3, and there are 1 supplied.",
     "output_type": "error",
     "traceback": [
      "\u001b[1;31m---------------------------------------------------------------------------\u001b[0m",
      "\u001b[1;31mProgrammingError\u001b[0m                          Traceback (most recent call last)",
      "Cell \u001b[1;32mIn[131], line 4\u001b[0m\n\u001b[0;32m      2\u001b[0m total_records\u001b[38;5;241m=\u001b[39m\u001b[38;5;241m0\u001b[39m\n\u001b[0;32m      3\u001b[0m \u001b[38;5;28;01mfor\u001b[39;00m row \u001b[38;5;129;01min\u001b[39;00m file:\n\u001b[1;32m----> 4\u001b[0m     \u001b[43mcursor\u001b[49m\u001b[38;5;241;43m.\u001b[39;49m\u001b[43mexecute\u001b[49m\u001b[43m(\u001b[49m\u001b[38;5;124;43m\"\u001b[39;49m\u001b[38;5;124;43minsert into scores1 values(?,?,?)\u001b[39;49m\u001b[38;5;124;43m\"\u001b[39;49m\u001b[43m,\u001b[49m\u001b[43m \u001b[49m\u001b[43mrow\u001b[49m\u001b[38;5;241;43m.\u001b[39;49m\u001b[43msplit\u001b[49m\u001b[43m(\u001b[49m\u001b[38;5;124;43m\"\u001b[39;49m\u001b[38;5;124;43m,\u001b[39;49m\u001b[38;5;124;43m\"\u001b[39;49m\u001b[43m)\u001b[49m\u001b[43m)\u001b[49m\n\u001b[0;32m      5\u001b[0m     db\u001b[38;5;241m.\u001b[39mcommit()\n\u001b[0;32m      6\u001b[0m     total_records \u001b[38;5;241m+\u001b[39m\u001b[38;5;241m=\u001b[39m\u001b[38;5;241m1\u001b[39m\n",
      "\u001b[1;31mProgrammingError\u001b[0m: Incorrect number of bindings supplied. The current statement uses 3, and there are 1 supplied."
     ]
    }
   ],
   "source": [
    "with open('My_score.csv', 'r') as file:   #file: is here handler\n",
    "    total_records=0\n",
    "    for row in file:\n",
    "        cursor.execute(\"insert into scores1 values(?,?,?)\", row.split(\",\"))\n",
    "        db.commit()\n",
    "        total_records +=1\n",
    "print(total_records, 'Records inserted')"
   ]
  },
  {
   "cell_type": "code",
   "execution_count": 133,
   "id": "405f8cd9",
   "metadata": {},
   "outputs": [
    {
     "name": "stdout",
     "output_type": "stream",
     "text": [
      "Skipped a row with incorrect number of values: Male;104;56\n",
      "\n",
      "Skipped a row with incorrect number of values: Male;105;78\n",
      "\n",
      "Skipped a row with incorrect number of values: Female;106;36\n",
      "\n",
      "Skipped a row with incorrect number of values: Male;107;20\n",
      "\n",
      "Skipped a row with incorrect number of values: Female;108;98\n",
      "\n",
      "Skipped a row with incorrect number of values: Male;109;85\n",
      "\n",
      "Skipped a row with incorrect number of values: Female;110;69\n",
      "\n",
      "Skipped a row with incorrect number of values: Male;111;46\n",
      "\n",
      "Skipped a row with incorrect number of values: Female;112;66\n",
      "\n",
      "Skipped a row with incorrect number of values: Male;113;91\n",
      "\n",
      "Skipped a row with incorrect number of values: Male;114;48\n",
      "\n",
      "Skipped a row with incorrect number of values: Male;115;56\n",
      "\n",
      "Skipped a row with incorrect number of values: Female;116;67\n",
      "\n",
      "Skipped a row with incorrect number of values: Male;117;78\n",
      "\n",
      "Skipped a row with incorrect number of values: Male;118;89\n",
      "\n",
      "Skipped a row with incorrect number of values: Male;119;32\n",
      "\n",
      "Skipped a row with incorrect number of values: Female;120;44\n",
      "\n",
      "0 Records inserted\n"
     ]
    }
   ],
   "source": [
    "with open('My_score.csv', 'r') as file:\n",
    "    total_records = 0\n",
    "    for row in file:\n",
    "        # Split the row into three values using a comma as the delimiter\n",
    "        values = row.strip().split(\",\")\n",
    "        if len(values) == 3:\n",
    "            cursor.execute(\"INSERT INTO scores1 VALUES (?, ?, ?)\", values)\n",
    "            db.commit()\n",
    "            total_records += 1\n",
    "        else:\n",
    "            print(f\"Skipped a row with incorrect number of values: {row}\")\n",
    "\n",
    "print(total_records, 'Records inserted')"
   ]
  },
  {
   "cell_type": "code",
   "execution_count": 134,
   "id": "2b68ac22",
   "metadata": {},
   "outputs": [
    {
     "name": "stdout",
     "output_type": "stream",
     "text": [
      "('Male', 100, 55)\n",
      "('Male', 104, 56)\n",
      "('Male', 105, 78)\n",
      "('Female', 106, 36)\n",
      "('Male', 107, 20)\n",
      "('Female', 108, 98)\n",
      "('Male', 109, 85)\n",
      "('Female', 110, 69)\n",
      "('Male', 111, 46)\n",
      "('Female', 112, 66)\n",
      "('Male', 113, 91)\n",
      "('Male', 114, 48)\n",
      "('Male', 115, 56)\n",
      "('Female', 116, 67)\n",
      "('Male', 117, 78)\n",
      "('Male', 118, 89)\n",
      "('Male', 119, 32)\n",
      "('Female', 120, 44)\n"
     ]
    }
   ],
   "source": [
    "result = cursor.execute(\"select * from scores\")\n",
    "for row in result:\n",
    "    print(row)"
   ]
  },
  {
   "cell_type": "markdown",
   "id": "78d59e3d",
   "metadata": {},
   "source": [
    "# Primary Key---must have two constraints: unique and not null"
   ]
  },
  {
   "cell_type": "markdown",
   "id": "41864eac",
   "metadata": {},
   "source": [
    "==>It is a column that accepts unique values for each row.\n",
    "==>Primary keys must contain UNIQUE values, and cannot contain NULL values. \n",
    "==>A table can have only ONE primary key; and in the table, this primary key can consist of single or multiple columns        (fields)."
   ]
  },
  {
   "cell_type": "markdown",
   "id": "85a64b9c",
   "metadata": {},
   "source": [
    "# NULL"
   ]
  },
  {
   "cell_type": "raw",
   "id": "396bdb5a",
   "metadata": {},
   "source": [
    "A null value indicates a lack of a value, which is not the same thing as a value of zero:\n",
    "Explain:\n",
    "   If a field in a table is optional, it is possible to insert a new record or update a record without adding a value to this field. Then, the field will be saved with a NULL value. \n",
    "   \n",
    "For example, consider the question \"How many books does Adam own?\" The answer may be \"zero\" (we know that he owns none) or \"null\" (we do not know how many he owns)."
   ]
  },
  {
   "cell_type": "markdown",
   "id": "ed131d61",
   "metadata": {},
   "source": [
    "# Not Null-- no blank values can be inserted in table."
   ]
  },
  {
   "cell_type": "raw",
   "id": "48d0d001",
   "metadata": {},
   "source": [
    "The NOT NULL constraint enforces a column to not accept NULL values, which means that you cannot insert or update a record without adding a value to this field.\n",
    "\n",
    "For example: SELECT * FROM employees WHERE last_name IS NOT NULL; This SQL Server IS NOT NULL example will return all records from the employees table where the last_name does not contain a null value."
   ]
  },
  {
   "cell_type": "code",
   "execution_count": 135,
   "id": "f1112d8d",
   "metadata": {},
   "outputs": [],
   "source": [
    "import sqlite3 \n",
    "db= sqlite3.connect(\"D:/MySQLite_DataBase/sports_database.db\")\n",
    "cur=db.cursor()\n",
    "\n",
    " #db = sqlite3.connect(\"D:/MySQLite_DataBase/scores_database.db\")"
   ]
  },
  {
   "cell_type": "raw",
   "id": "0b381b03",
   "metadata": {},
   "source": [
    "contraints---\n",
    "unique--- enter only unique values, no duplicate values.\n",
    "not null--- no blank values can be inserted in table."
   ]
  },
  {
   "cell_type": "code",
   "execution_count": 136,
   "id": "5027413c",
   "metadata": {},
   "outputs": [
    {
     "data": {
      "text/plain": [
       "<sqlite3.Cursor at 0x1ffbbb7e8c0>"
      ]
     },
     "execution_count": 136,
     "metadata": {},
     "output_type": "execute_result"
    }
   ],
   "source": [
    "cur.execute(\"create table sport(id int primary key, sportname text unique, dateofevent date, country text not null)\")"
   ]
  },
  {
   "cell_type": "code",
   "execution_count": 137,
   "id": "d9e827c1",
   "metadata": {},
   "outputs": [
    {
     "data": {
      "text/plain": [
       "<sqlite3.Cursor at 0x1ffbbb7e8c0>"
      ]
     },
     "execution_count": 137,
     "metadata": {},
     "output_type": "execute_result"
    }
   ],
   "source": [
    "cur.execute(\"insert into sport values(1, 'cricket', '2021-11-9', 'England')\")"
   ]
  },
  {
   "cell_type": "code",
   "execution_count": 138,
   "id": "52dcf097",
   "metadata": {},
   "outputs": [
    {
     "ename": "IntegrityError",
     "evalue": "UNIQUE constraint failed: sport.sportname",
     "output_type": "error",
     "traceback": [
      "\u001b[1;31m---------------------------------------------------------------------------\u001b[0m",
      "\u001b[1;31mIntegrityError\u001b[0m                            Traceback (most recent call last)",
      "Cell \u001b[1;32mIn[138], line 3\u001b[0m\n\u001b[0;32m      1\u001b[0m \u001b[38;5;66;03m#this line will throw error as sportname is duplicate  ------unique contraint failed\u001b[39;00m\n\u001b[1;32m----> 3\u001b[0m \u001b[43mcur\u001b[49m\u001b[38;5;241;43m.\u001b[39;49m\u001b[43mexecute\u001b[49m\u001b[43m(\u001b[49m\u001b[38;5;124;43m\"\u001b[39;49m\u001b[38;5;124;43minsert into sport values(2, \u001b[39;49m\u001b[38;5;124;43m'\u001b[39;49m\u001b[38;5;124;43mcricket\u001b[39;49m\u001b[38;5;124;43m'\u001b[39;49m\u001b[38;5;124;43m, \u001b[39;49m\u001b[38;5;124;43m'\u001b[39;49m\u001b[38;5;124;43m2018-08-02\u001b[39;49m\u001b[38;5;124;43m'\u001b[39;49m\u001b[38;5;124;43m, \u001b[39;49m\u001b[38;5;124;43m'\u001b[39;49m\u001b[38;5;124;43mSriLanka\u001b[39;49m\u001b[38;5;124;43m'\u001b[39;49m\u001b[38;5;124;43m)\u001b[39;49m\u001b[38;5;124;43m\"\u001b[39;49m\u001b[43m)\u001b[49m\n",
      "\u001b[1;31mIntegrityError\u001b[0m: UNIQUE constraint failed: sport.sportname"
     ]
    }
   ],
   "source": [
    "#this line will throw error as sportname is duplicate  ------unique contraint failed\n",
    "\n",
    "cur.execute(\"insert into sport values(2, 'cricket', '2018-08-02', 'SriLanka')\")"
   ]
  },
  {
   "cell_type": "code",
   "execution_count": 139,
   "id": "db163a03",
   "metadata": {},
   "outputs": [
    {
     "data": {
      "text/plain": [
       "<sqlite3.Cursor at 0x1ffbbb7e8c0>"
      ]
     },
     "execution_count": 139,
     "metadata": {},
     "output_type": "execute_result"
    }
   ],
   "source": [
    "cur.execute(\"insert into sport values(2, 'Tennis', '2018-08-02', 'SriLanka')\")"
   ]
  },
  {
   "cell_type": "code",
   "execution_count": 140,
   "id": "0e3374b2",
   "metadata": {},
   "outputs": [
    {
     "data": {
      "text/plain": [
       "[(1, 'cricket', '2021-11-9', 'England'),\n",
       " (2, 'Tennis', '2018-08-02', 'SriLanka')]"
      ]
     },
     "execution_count": 140,
     "metadata": {},
     "output_type": "execute_result"
    }
   ],
   "source": [
    "result = cur.execute('select * from sport')\n",
    "result.fetchall()"
   ]
  },
  {
   "cell_type": "code",
   "execution_count": 141,
   "id": "b191071d",
   "metadata": {},
   "outputs": [
    {
     "ename": "IntegrityError",
     "evalue": "NOT NULL constraint failed: sport.country",
     "output_type": "error",
     "traceback": [
      "\u001b[1;31m---------------------------------------------------------------------------\u001b[0m",
      "\u001b[1;31mIntegrityError\u001b[0m                            Traceback (most recent call last)",
      "Cell \u001b[1;32mIn[141], line 3\u001b[0m\n\u001b[0;32m      1\u001b[0m \u001b[38;5;66;03m# This query throw error: not null constraint : can not leave any filled blank\u001b[39;00m\n\u001b[1;32m----> 3\u001b[0m \u001b[43mcur\u001b[49m\u001b[38;5;241;43m.\u001b[39;49m\u001b[43mexecute\u001b[49m\u001b[43m(\u001b[49m\u001b[38;5;124;43m\"\u001b[39;49m\u001b[38;5;124;43minsert into sport values(3, \u001b[39;49m\u001b[38;5;124;43m'\u001b[39;49m\u001b[38;5;124;43mFootball\u001b[39;49m\u001b[38;5;124;43m'\u001b[39;49m\u001b[38;5;124;43m, \u001b[39;49m\u001b[38;5;124;43m'\u001b[39;49m\u001b[38;5;124;43m2022-05-30\u001b[39;49m\u001b[38;5;124;43m'\u001b[39;49m\u001b[38;5;124;43m, NULL)\u001b[39;49m\u001b[38;5;124;43m\"\u001b[39;49m\u001b[43m)\u001b[49m\n",
      "\u001b[1;31mIntegrityError\u001b[0m: NOT NULL constraint failed: sport.country"
     ]
    }
   ],
   "source": [
    "# This query throw error: not null constraint : can not leave any filled blank\n",
    "\n",
    "cur.execute(\"insert into sport values(3, 'Football', '2022-05-30', NULL)\")"
   ]
  },
  {
   "cell_type": "markdown",
   "id": "7c31390f",
   "metadata": {},
   "source": [
    "# Employee database with DB and Python Programmatically "
   ]
  },
  {
   "cell_type": "code",
   "execution_count": 149,
   "id": "0e2fcb68",
   "metadata": {},
   "outputs": [],
   "source": [
    "import sqlite3"
   ]
  },
  {
   "cell_type": "code",
   "execution_count": 150,
   "id": "f29c00ed",
   "metadata": {},
   "outputs": [],
   "source": [
    "con = sqlite3.connect(\"D:/MySQLite_DataBase/emp_database.db\")"
   ]
  },
  {
   "cell_type": "raw",
   "id": "9ffc007e",
   "metadata": {},
   "source": [
    "#created the table"
   ]
  },
  {
   "cell_type": "code",
   "execution_count": null,
   "id": "c624d5aa",
   "metadata": {},
   "outputs": [],
   "source": [
    "#user defined function\n",
    "def sql_table(con):\n",
    "    cur=con.cursor()\n",
    "    cur.execute(\"create table employee(id integer primary key, name text, salary real, department text, position text, hiredate)\")\n",
    "    con.commit()\n",
    "    \n",
    "sql_table(con)    "
   ]
  },
  {
   "cell_type": "markdown",
   "id": "55fa36dd",
   "metadata": {},
   "source": [
    "# When you need to delete the unwanted table"
   ]
  },
  {
   "cell_type": "code",
   "execution_count": 152,
   "id": "09a4ea53",
   "metadata": {
    "scrolled": true
   },
   "outputs": [],
   "source": [
    "cur=con.cursor()\n",
    "cur.execute(\"drop table employee\")\n",
    "\n",
    "con.commit()\n",
    "sql_table(con)"
   ]
  },
  {
   "cell_type": "markdown",
   "id": "520ab2a7",
   "metadata": {},
   "source": [
    "# Example "
   ]
  },
  {
   "cell_type": "code",
   "execution_count": 153,
   "id": "dc7f2584",
   "metadata": {},
   "outputs": [
    {
     "ename": "OperationalError",
     "evalue": "unable to open database file",
     "output_type": "error",
     "traceback": [
      "\u001b[1;31m---------------------------------------------------------------------------\u001b[0m",
      "\u001b[1;31mOperationalError\u001b[0m                          Traceback (most recent call last)",
      "Cell \u001b[1;32mIn[153], line 1\u001b[0m\n\u001b[1;32m----> 1\u001b[0m con \u001b[38;5;241m=\u001b[39m \u001b[43msqlite3\u001b[49m\u001b[38;5;241;43m.\u001b[39;49m\u001b[43mconnect\u001b[49m\u001b[43m(\u001b[49m\u001b[38;5;124;43m\"\u001b[39;49m\u001b[38;5;124;43mD:/MySQLite_DataBase1/emp_database.db\u001b[39;49m\u001b[38;5;124;43m\"\u001b[39;49m\u001b[43m)\u001b[49m\n",
      "\u001b[1;31mOperationalError\u001b[0m: unable to open database file"
     ]
    }
   ],
   "source": [
    "con = sqlite3.connect(\"D:/MySQLite_DataBase1/emp_database.db\")"
   ]
  },
  {
   "cell_type": "raw",
   "id": "16e0155b",
   "metadata": {},
   "source": [
    "Here inside the user defined function we are passing the connection (con). \n",
    "\n",
    "connection is required as a parameter which is going to connect into emp_database or database.\n"
   ]
  },
  {
   "cell_type": "code",
   "execution_count": 154,
   "id": "7a82f4c9",
   "metadata": {},
   "outputs": [],
   "source": [
    "#user defined function\n",
    "def sql_table(con):\n",
    "    cur=con.cursor()\n",
    "    cur.execute(\"create table employee1(id integer primary key, name text, salary real, department text, position text, hiredate)\")\n",
    "    con.commit()"
   ]
  },
  {
   "cell_type": "code",
   "execution_count": 155,
   "id": "32a8cfb1",
   "metadata": {},
   "outputs": [],
   "source": [
    "#calling function\n",
    "\n",
    "sql_table(con)"
   ]
  },
  {
   "cell_type": "code",
   "execution_count": 156,
   "id": "bf9f4fd3",
   "metadata": {},
   "outputs": [
    {
     "data": {
      "text/plain": [
       "<sqlite3.Cursor at 0x1ffbbbca3c0>"
      ]
     },
     "execution_count": 156,
     "metadata": {},
     "output_type": "execute_result"
    }
   ],
   "source": [
    "cur=con.cursor()\n",
    "cur.execute(\"insert into employee1 values(1, 'Jack',9000,'HR','Manager','2019-07-09')\")"
   ]
  },
  {
   "cell_type": "code",
   "execution_count": 157,
   "id": "465319a8",
   "metadata": {},
   "outputs": [],
   "source": [
    "con.commit()"
   ]
  },
  {
   "cell_type": "code",
   "execution_count": 158,
   "id": "88025d15",
   "metadata": {},
   "outputs": [
    {
     "data": {
      "text/plain": [
       "[(1, 'Jack', 9000.0, 'HR', 'Manager', '2019-07-09')]"
      ]
     },
     "execution_count": 158,
     "metadata": {},
     "output_type": "execute_result"
    }
   ],
   "source": [
    "results=cur.execute(\"select * from employee1\")\n",
    "results.fetchall()"
   ]
  },
  {
   "cell_type": "raw",
   "id": "ade24ec8",
   "metadata": {},
   "source": [
    "We can also pass values/arguments to an INSERT statement in the execute() method. You can use the question mark(?) as a placeholder or each  value. The syntax of the INSERT will be like the following:"
   ]
  },
  {
   "cell_type": "raw",
   "id": "09b7df4b",
   "metadata": {},
   "source": [
    "cur.execute('''insert into employee(id, name, salary, department, position, hiredate) values(?,?,?,?,?,?,?)''', entities)\n",
    "\n",
    "entities=(2, 'John', 4000,'IT','Engineer','2015-04-06')"
   ]
  },
  {
   "cell_type": "code",
   "execution_count": 159,
   "id": "38916b72",
   "metadata": {},
   "outputs": [],
   "source": [
    "def sql_insert(con, entities):\n",
    "    cur=con.cursor()\n",
    "    cur.execute('insert into employee1(id,name,salary,department,position,hiredate) values(?,?,?,?,?,?)', entities)"
   ]
  },
  {
   "cell_type": "code",
   "execution_count": 160,
   "id": "546e73f2",
   "metadata": {},
   "outputs": [],
   "source": [
    "entities = (2,'Andrew',7000,'IT','Engineer','2015-04-06')"
   ]
  },
  {
   "cell_type": "code",
   "execution_count": 161,
   "id": "54069080",
   "metadata": {},
   "outputs": [],
   "source": [
    "#calling sql insert to insert the data\n",
    "\n",
    "sql_insert(con, entities)"
   ]
  },
  {
   "cell_type": "code",
   "execution_count": 162,
   "id": "78757118",
   "metadata": {},
   "outputs": [],
   "source": [
    "entities = (3,'Thomas',6000,'HR','Manager','2016-06-14')\n",
    "\n",
    "sql_insert(con, entities)"
   ]
  },
  {
   "cell_type": "code",
   "execution_count": 163,
   "id": "f2b8458c",
   "metadata": {},
   "outputs": [
    {
     "data": {
      "text/plain": [
       "[(1, 'Jack', 9000.0, 'HR', 'Manager', '2019-07-09'),\n",
       " (2, 'Andrew', 7000.0, 'IT', 'Engineer', '2015-04-06'),\n",
       " (3, 'Thomas', 6000.0, 'HR', 'Manager', '2016-06-14')]"
      ]
     },
     "execution_count": 163,
     "metadata": {},
     "output_type": "execute_result"
    }
   ],
   "source": [
    "results = cur.execute(\"select * from employee1\")\n",
    "results.fetchall()"
   ]
  },
  {
   "cell_type": "code",
   "execution_count": 164,
   "id": "f3c08b2f",
   "metadata": {},
   "outputs": [],
   "source": [
    "entities = (4,'Rudolf',8000,'IT','Engineer','2012-02-23')\n",
    "sql_insert(con, entities)\n",
    "entities = (5,'Rudolf',10000,'Sales','Sales Executive','2018-02-19')\n",
    "\n",
    "sql_insert(con, entities)"
   ]
  },
  {
   "cell_type": "code",
   "execution_count": 165,
   "id": "e9de737e",
   "metadata": {},
   "outputs": [
    {
     "data": {
      "text/plain": [
       "[(1, 'Jack', 9000.0, 'HR', 'Manager', '2019-07-09'),\n",
       " (2, 'Andrew', 7000.0, 'IT', 'Engineer', '2015-04-06'),\n",
       " (3, 'Thomas', 6000.0, 'HR', 'Manager', '2016-06-14'),\n",
       " (4, 'Rudolf', 8000.0, 'IT', 'Engineer', '2012-02-23'),\n",
       " (5, 'Rudolf', 10000.0, 'Sales', 'Sales Executive', '2018-02-19')]"
      ]
     },
     "execution_count": 165,
     "metadata": {},
     "output_type": "execute_result"
    }
   ],
   "source": [
    "results = cur.execute(\"select * from employee1\")\n",
    "results.fetchall()"
   ]
  },
  {
   "cell_type": "markdown",
   "id": "1687746f",
   "metadata": {},
   "source": [
    "# Delete from table employee1"
   ]
  },
  {
   "cell_type": "code",
   "execution_count": 166,
   "id": "f019f85d",
   "metadata": {},
   "outputs": [
    {
     "data": {
      "text/plain": [
       "[(1, 'Jack', 9000.0, 'HR', 'Manager', '2019-07-09'),\n",
       " (2, 'Andrew', 7000.0, 'IT', 'Engineer', '2015-04-06'),\n",
       " (3, 'Thomas', 6000.0, 'HR', 'Manager', '2016-06-14')]"
      ]
     },
     "execution_count": 166,
     "metadata": {},
     "output_type": "execute_result"
    }
   ],
   "source": [
    "sql = \"delete from employee1 where id IN(4,5)\"\n",
    "cur.execute(sql)\n",
    "results = cur.execute(\"select * from employee1\")\n",
    "results.fetchall()"
   ]
  },
  {
   "cell_type": "code",
   "execution_count": 167,
   "id": "02818f2e",
   "metadata": {},
   "outputs": [
    {
     "data": {
      "text/plain": [
       "[(1, 'Jack'), (2, 'Andrew'), (3, 'Thomas')]"
      ]
     },
     "execution_count": 167,
     "metadata": {},
     "output_type": "execute_result"
    }
   ],
   "source": [
    "results= cur.execute(\"select id, name from employee1\")\n",
    "\n",
    "results.fetchall()"
   ]
  },
  {
   "cell_type": "code",
   "execution_count": 168,
   "id": "71e6eeed",
   "metadata": {},
   "outputs": [
    {
     "data": {
      "text/plain": [
       "[(1, 'Jack')]"
      ]
     },
     "execution_count": 168,
     "metadata": {},
     "output_type": "execute_result"
    }
   ],
   "source": [
    "results = cur.execute(\"select id,name from employee1 where salary>8000\")\n",
    "results.fetchall()"
   ]
  },
  {
   "cell_type": "code",
   "execution_count": 169,
   "id": "bee41930",
   "metadata": {},
   "outputs": [
    {
     "data": {
      "text/plain": [
       "[(1, 'Jack'), (3, 'Thomas')]"
      ]
     },
     "execution_count": 169,
     "metadata": {},
     "output_type": "execute_result"
    }
   ],
   "source": [
    "results= cur.execute(\"select id,name from employee1 where department in ('HR')\")\n",
    "results.fetchall()"
   ]
  },
  {
   "cell_type": "code",
   "execution_count": 170,
   "id": "98b95bb6",
   "metadata": {},
   "outputs": [
    {
     "data": {
      "text/plain": [
       "(6000.0,)"
      ]
     },
     "execution_count": 170,
     "metadata": {},
     "output_type": "execute_result"
    }
   ],
   "source": [
    "results = cur.execute(\"select min(salary) from employee1\")\n",
    "results.fetchone()"
   ]
  },
  {
   "cell_type": "code",
   "execution_count": 171,
   "id": "0dc1a119",
   "metadata": {},
   "outputs": [
    {
     "data": {
      "text/plain": [
       "(3,)"
      ]
     },
     "execution_count": 171,
     "metadata": {},
     "output_type": "execute_result"
    }
   ],
   "source": [
    "results = cur.execute(\"select count(id) from employee1\")\n",
    "results.fetchone()"
   ]
  },
  {
   "cell_type": "markdown",
   "id": "aa555643",
   "metadata": {},
   "source": [
    "# distinct:"
   ]
  },
  {
   "cell_type": "raw",
   "id": "cd9090e1",
   "metadata": {},
   "source": [
    "#unique Vs Distinct\n",
    "\n",
    "The DISTINCT keyword in the SELECT clause is used to eliminate duplicate rows and display a unique list of values. In other words, the DISTINCT keyword retrieves unique values from a table.\n",
    "\n",
    "The UNIQUE keyword in SQL plays the role of a database constraint; it ensures there are no duplicate values stored in a particular column or a set of columns."
   ]
  },
  {
   "cell_type": "code",
   "execution_count": 172,
   "id": "fee41fc4",
   "metadata": {},
   "outputs": [
    {
     "data": {
      "text/plain": [
       "[('HR',), ('IT',)]"
      ]
     },
     "execution_count": 172,
     "metadata": {},
     "output_type": "execute_result"
    }
   ],
   "source": [
    "results = cur.execute(\"select distinct(department) from employee1\")\n",
    "results.fetchall()"
   ]
  },
  {
   "cell_type": "code",
   "execution_count": 173,
   "id": "469e7443",
   "metadata": {},
   "outputs": [
    {
     "data": {
      "text/plain": [
       "[(2,)]"
      ]
     },
     "execution_count": 173,
     "metadata": {},
     "output_type": "execute_result"
    }
   ],
   "source": [
    "results = cur.execute(\"select count(distinct(department)) from employee1\")\n",
    "results.fetchall()"
   ]
  },
  {
   "cell_type": "markdown",
   "id": "8c1cadd9",
   "metadata": {},
   "source": [
    "# GROUP BY"
   ]
  },
  {
   "cell_type": "raw",
   "id": "fa4ad00d",
   "metadata": {},
   "source": [
    "The SQL GROUP BY clause is used in collaboration with the SELECT statement to arrange identical data into groups. This GROUP BY clause follows the WHERE clause in a SELECT statement and precedes the ORDER BY clause.\n",
    "\n",
    "Syntax:\n",
    "\n",
    "SELECT column1, column2 FROM table_name WHERE [ conditions ] GROUP BY column1, column2 ORDER BY column1, column2"
   ]
  },
  {
   "cell_type": "raw",
   "id": "e74411f4",
   "metadata": {},
   "source": [
    "The GROUP BY statement groups rows that have the same values into summary rows, like \"find the number of customers in each country\".\n",
    "\n",
    "The GROUP BY statement is often used with aggregate functions (COUNT(), MAX(), MIN(), SUM(), AVG()) to group the result-set by one or more columns."
   ]
  },
  {
   "cell_type": "code",
   "execution_count": null,
   "id": "06ee76ce",
   "metadata": {},
   "outputs": [],
   "source": []
  },
  {
   "cell_type": "code",
   "execution_count": null,
   "id": "3ee8908d",
   "metadata": {},
   "outputs": [],
   "source": []
  },
  {
   "cell_type": "code",
   "execution_count": 174,
   "id": "0b3507dc",
   "metadata": {},
   "outputs": [
    {
     "data": {
      "text/plain": [
       "[(7000.0, 'Engineer'), (15000.0, 'Manager')]"
      ]
     },
     "execution_count": 174,
     "metadata": {},
     "output_type": "execute_result"
    }
   ],
   "source": [
    "results = cur.execute(\"select sum(salary), position from employee1 group by position\")\n",
    "results.fetchall()"
   ]
  },
  {
   "cell_type": "code",
   "execution_count": 175,
   "id": "21cd9bc6",
   "metadata": {},
   "outputs": [
    {
     "data": {
      "text/plain": [
       "[(15000.0, 'HR'), (7000.0, 'IT')]"
      ]
     },
     "execution_count": 175,
     "metadata": {},
     "output_type": "execute_result"
    }
   ],
   "source": [
    "results=cur.execute(\"select sum(salary), department from employee1 group by department\")\n",
    "results.fetchall()"
   ]
  },
  {
   "cell_type": "code",
   "execution_count": 176,
   "id": "f2d9c891",
   "metadata": {},
   "outputs": [],
   "source": [
    "def sql_query(sql):\n",
    "    cur=con.cursor()\n",
    "    results=cur.execute(sql)\n",
    "    return results"
   ]
  },
  {
   "cell_type": "code",
   "execution_count": 177,
   "id": "56bc2f62",
   "metadata": {},
   "outputs": [
    {
     "data": {
      "text/plain": [
       "[(1, 'Jack', 9000.0, 'HR', 'Manager', '2019-07-09'),\n",
       " (2, 'Andrew', 7000.0, 'IT', 'Engineer', '2015-04-06'),\n",
       " (3, 'Thomas', 6000.0, 'HR', 'Manager', '2016-06-14')]"
      ]
     },
     "execution_count": 177,
     "metadata": {},
     "output_type": "execute_result"
    }
   ],
   "source": [
    "#make query\n",
    "sql=\"select * from employee1\"\n",
    "\n",
    "#pass query in function\n",
    "respond =sql_query(sql)\n",
    "respond.fetchall()"
   ]
  },
  {
   "cell_type": "code",
   "execution_count": 178,
   "id": "8b131944",
   "metadata": {},
   "outputs": [
    {
     "data": {
      "text/plain": [
       "[(1, 'Jack', 'Manager'), (2, 'Andrew', 'Engineer'), (3, 'Thomas', 'Manager')]"
      ]
     },
     "execution_count": 178,
     "metadata": {},
     "output_type": "execute_result"
    }
   ],
   "source": [
    "sql = \"select id,name, position from employee1\"\n",
    "\n",
    "#pass query in function\n",
    "respond = sql_query(sql)\n",
    "respond.fetchall()"
   ]
  },
  {
   "cell_type": "markdown",
   "id": "7e1122db",
   "metadata": {},
   "source": [
    "# Having"
   ]
  },
  {
   "cell_type": "raw",
   "id": "f9f72204",
   "metadata": {},
   "source": [
    "Having:\n",
    "While the GROUP BY Clause groups rows that have the same values into summary rows. The having clause is used with the where clause in order to find rows with certain conditions. The having clause is always used after the group By clause.\n",
    "\n",
    "Syntax:\n",
    "\n",
    "SELECT column1, column2 FROM table_name WHERE [ conditions ] GROUP BY column1, column2 HAVING [ conditions ]"
   ]
  },
  {
   "cell_type": "code",
   "execution_count": 179,
   "id": "969dfa06",
   "metadata": {},
   "outputs": [
    {
     "data": {
      "text/plain": [
       "[(15000.0, 'HR')]"
      ]
     },
     "execution_count": 179,
     "metadata": {},
     "output_type": "execute_result"
    }
   ],
   "source": [
    "results=cur.execute(\"select sum(salary), department from employee1 group by department having sum(salary)>10000\")\n",
    "results.fetchall()"
   ]
  },
  {
   "cell_type": "code",
   "execution_count": null,
   "id": "04945ff6",
   "metadata": {},
   "outputs": [],
   "source": []
  },
  {
   "cell_type": "markdown",
   "id": "67f1077c",
   "metadata": {},
   "source": [
    "# Foreign key"
   ]
  },
  {
   "cell_type": "raw",
   "id": "74ed9747",
   "metadata": {},
   "source": [
    "A foreign key can refer to either a unique or a primary key value of the parent table. If the foreign key refers to a non-primary unique key, we must specify the column names of the key explicitly.\n",
    "\n",
    "The table with the foreign key is called the child table, and the table with the primary key is called the referenced or parent table.\n",
    "\n",
    "Referential integrity refers to the relationship between tables."
   ]
  },
  {
   "cell_type": "code",
   "execution_count": 180,
   "id": "0666a424",
   "metadata": {},
   "outputs": [],
   "source": [
    "import sqlite3\n",
    "db=sqlite3.connect(\"D:/MySQLite_DataBase/student_course_database.db\")"
   ]
  },
  {
   "cell_type": "code",
   "execution_count": 181,
   "id": "4ddfcee1",
   "metadata": {},
   "outputs": [],
   "source": [
    "cur=db.cursor()"
   ]
  },
  {
   "cell_type": "code",
   "execution_count": 182,
   "id": "d0c430cc",
   "metadata": {},
   "outputs": [
    {
     "data": {
      "text/plain": [
       "<sqlite3.Cursor at 0x1ffbbbdf340>"
      ]
     },
     "execution_count": 182,
     "metadata": {},
     "output_type": "execute_result"
    }
   ],
   "source": [
    "cur.execute(\"create table course(course_id int primary key,course_name text, duration int)\")"
   ]
  },
  {
   "cell_type": "code",
   "execution_count": 183,
   "id": "5098ed56",
   "metadata": {},
   "outputs": [
    {
     "data": {
      "text/plain": [
       "<sqlite3.Cursor at 0x1ffbbbdf340>"
      ]
     },
     "execution_count": 183,
     "metadata": {},
     "output_type": "execute_result"
    }
   ],
   "source": [
    "cur.execute(\"create table student(roll_no int primary key,student_name text, age int, course_id int, foreign key(course_id) references course(course_id))\")"
   ]
  },
  {
   "cell_type": "code",
   "execution_count": 184,
   "id": "8ef6ce3e",
   "metadata": {},
   "outputs": [
    {
     "name": "stdout",
     "output_type": "stream",
     "text": [
      "3 record(s) inserted\n"
     ]
    }
   ],
   "source": [
    "cur.execute(\"insert into course values(78,'Data Science',12),(56,'Python Course',4),(101,'DataBase',7)\")\n",
    "\n",
    "print(cur.rowcount,\"record(s) inserted\")\n",
    "\n",
    "db.commit()"
   ]
  },
  {
   "cell_type": "code",
   "execution_count": 185,
   "id": "9a9e3c91",
   "metadata": {},
   "outputs": [
    {
     "name": "stdout",
     "output_type": "stream",
     "text": [
      "4 record(s) inserted\n"
     ]
    }
   ],
   "source": [
    "cur.execute(\"insert into student values(1, 'Jack', 22, 78),(2,'John',21,56),(3,'Rudolf',18,78),(4,'Jim',21,56)\")\n",
    "\n",
    "print(cur.rowcount,\"record(s) inserted\")\n",
    "\n",
    "db.commit()"
   ]
  },
  {
   "cell_type": "code",
   "execution_count": 186,
   "id": "8012ff49",
   "metadata": {},
   "outputs": [
    {
     "name": "stdout",
     "output_type": "stream",
     "text": [
      "(78, 'Data Science', 12)\n",
      "(56, 'Python Course', 4)\n",
      "(101, 'DataBase', 7)\n"
     ]
    }
   ],
   "source": [
    "results = cur.execute(\"select * from course\")\n",
    "\n",
    "for i in results:\n",
    "    print(i)"
   ]
  },
  {
   "cell_type": "code",
   "execution_count": 187,
   "id": "3ad4c8b3",
   "metadata": {},
   "outputs": [
    {
     "name": "stdout",
     "output_type": "stream",
     "text": [
      "(1, 'Jack', 22, 78)\n",
      "(2, 'John', 21, 56)\n",
      "(3, 'Rudolf', 18, 78)\n",
      "(4, 'Jim', 21, 56)\n"
     ]
    }
   ],
   "source": [
    "results=cur.execute(\"select * from student\")\n",
    "\n",
    "for i in results:\n",
    "    print(i)"
   ]
  },
  {
   "cell_type": "code",
   "execution_count": 188,
   "id": "ef297a1c",
   "metadata": {},
   "outputs": [
    {
     "name": "stdout",
     "output_type": "stream",
     "text": [
      "(78,)\n"
     ]
    }
   ],
   "source": [
    "result =cur.execute('select course_id from course where course_name = \"Data Science\"')\n",
    "\n",
    "for i in results:\n",
    "    print(i)                    "
   ]
  },
  {
   "cell_type": "markdown",
   "id": "6e087905",
   "metadata": {},
   "source": [
    "# Subquery"
   ]
  },
  {
   "cell_type": "raw",
   "id": "21b247d9",
   "metadata": {},
   "source": [
    "A subquery is a query that appears inside another query statement. Subqueries are also referred to as sub- SELECT s or nested SELECT s. The full SELECT syntax is valid in subqueries."
   ]
  },
  {
   "cell_type": "raw",
   "id": "095b8980",
   "metadata": {},
   "source": [
    "==> outer_query = inner_query\n",
    "\n",
    "==>Inner querry will be executed first then outer query will be executed.\n",
    "\n",
    "\"select * from student where course_id=(select course_id from course where course_name ='Data Science')\"\n"
   ]
  },
  {
   "cell_type": "code",
   "execution_count": 189,
   "id": "e5ff2718",
   "metadata": {},
   "outputs": [
    {
     "data": {
      "text/plain": [
       "[(2, 'John', 21, 56), (4, 'Jim', 21, 56)]"
      ]
     },
     "execution_count": 189,
     "metadata": {},
     "output_type": "execute_result"
    }
   ],
   "source": [
    "results=cur.execute(\"select * from student where course_id=(select course_id from course where duration =4)\")\n",
    "\n",
    "results.fetchall()"
   ]
  },
  {
   "cell_type": "code",
   "execution_count": 190,
   "id": "35cac818",
   "metadata": {},
   "outputs": [
    {
     "data": {
      "text/plain": [
       "[(2, 'John', 21, 56), (4, 'Jim', 21, 56)]"
      ]
     },
     "execution_count": 190,
     "metadata": {},
     "output_type": "execute_result"
    }
   ],
   "source": [
    "results=cur.execute(\"select * from student where course_id=(select course_id from course where duration =4)\")\n",
    "\n",
    "results.fetchall()"
   ]
  },
  {
   "cell_type": "markdown",
   "id": "3d428587",
   "metadata": {},
   "source": [
    "# Union"
   ]
  },
  {
   "cell_type": "raw",
   "id": "9fc09e96",
   "metadata": {},
   "source": [
    "The UNION operator is used to combine the data from the result of two or more SELECT command queries into a single distinct result set. This operator removes any duplicates present in the results being combined."
   ]
  },
  {
   "cell_type": "markdown",
   "id": "3711e4c8",
   "metadata": {},
   "source": [
    "# Join"
   ]
  },
  {
   "cell_type": "markdown",
   "id": "29f56933",
   "metadata": {},
   "source": [
    "#### To know the source directory of pc"
   ]
  },
  {
   "cell_type": "code",
   "execution_count": 191,
   "id": "e9c0e722",
   "metadata": {},
   "outputs": [
    {
     "data": {
      "text/plain": [
       "'C:\\\\Users\\\\Asus'"
      ]
     },
     "execution_count": 191,
     "metadata": {},
     "output_type": "execute_result"
    }
   ],
   "source": [
    "import os\n",
    "cwd=os.getcwd()\n",
    "cwd"
   ]
  },
  {
   "cell_type": "raw",
   "id": "cc8b6459",
   "metadata": {},
   "source": [
    "Join clause is used to combine records from two or more tables in a database."
   ]
  },
  {
   "cell_type": "raw",
   "id": "1e0ff8b3",
   "metadata": {},
   "source": [
    "Different Types of SQL JOINs\n",
    "Here are the different types of the JOINs in SQL:\n",
    "\n",
    "(INNER) JOIN: Returns records that have matching values in both tables\n",
    "\n",
    "LEFT (OUTER) JOIN: Returns all records from the left table, and the matched records from the right table\n",
    "RIGHT (OUTER) JOIN: Returns all records from the right table, and the matched records from the left table\n",
    "FULL (OUTER) JOIN: Returns all records when there is a match in either left or right table"
   ]
  },
  {
   "cell_type": "markdown",
   "id": "8fc08152",
   "metadata": {},
   "source": [
    "<img src=\"join.png\">"
   ]
  },
  {
   "cell_type": "markdown",
   "id": "e717a901",
   "metadata": {},
   "source": [
    "# Format to paste image in jupyter notebook"
   ]
  },
  {
   "cell_type": "raw",
   "id": "65c39a40",
   "metadata": {},
   "source": [
    "<img src=\"join.png\" style=\"width:380px;height:224px\"> \n",
    "\n",
    "style statement depends on requirement. this is not mindatroy.\n",
    "\n",
    "Note: Image should be in source directory else in uploaded in jupyter source."
   ]
  },
  {
   "cell_type": "markdown",
   "id": "cead155a",
   "metadata": {},
   "source": [
    "# Inner Join"
   ]
  },
  {
   "cell_type": "raw",
   "id": "244a8614",
   "metadata": {},
   "source": [
    "Inner Join creates a new result table by com bining column values of two tables (table_1 and table_2) based upon the join_predicate."
   ]
  },
  {
   "cell_type": "code",
   "execution_count": 192,
   "id": "d04df55d",
   "metadata": {},
   "outputs": [
    {
     "data": {
      "text/plain": [
       "[(1, 'Jack', 78, 'Data Science'),\n",
       " (2, 'John', 56, 'Python Course'),\n",
       " (3, 'Rudolf', 78, 'Data Science'),\n",
       " (4, 'Jim', 56, 'Python Course')]"
      ]
     },
     "execution_count": 192,
     "metadata": {},
     "output_type": "execute_result"
    }
   ],
   "source": [
    "sql=\"select student.roll_no, student.student_name, course.course_id, course.course_name from student INNER JOIN course On student.course_id =course.course_id\"\n",
    "results=cur.execute(sql)\n",
    "results.fetchall()"
   ]
  },
  {
   "cell_type": "markdown",
   "id": "67672c71",
   "metadata": {},
   "source": [
    "# LEFT JOIN"
   ]
  },
  {
   "cell_type": "markdown",
   "id": "34b7a62a",
   "metadata": {},
   "source": [
    "##### When left table is student"
   ]
  },
  {
   "cell_type": "code",
   "execution_count": 193,
   "id": "1536e341",
   "metadata": {},
   "outputs": [
    {
     "data": {
      "text/plain": [
       "[(1, 'Jack', 78, 'Data Science'),\n",
       " (2, 'John', 56, 'Python Course'),\n",
       " (3, 'Rudolf', 78, 'Data Science'),\n",
       " (4, 'Jim', 56, 'Python Course')]"
      ]
     },
     "execution_count": 193,
     "metadata": {},
     "output_type": "execute_result"
    }
   ],
   "source": [
    "sql=\"select student.roll_no, student.student_name, course.course_id, course.course_name from student LEFT JOIN course On student.course_id =course.course_id\"\n",
    "results=cur.execute(sql)\n",
    "results.fetchall()"
   ]
  },
  {
   "cell_type": "markdown",
   "id": "3f3cd1de",
   "metadata": {},
   "source": [
    "##### when left table is course"
   ]
  },
  {
   "cell_type": "code",
   "execution_count": 194,
   "id": "3b704fcb",
   "metadata": {},
   "outputs": [
    {
     "data": {
      "text/plain": [
       "[(1, 'Jack', 78, 'Data Science'),\n",
       " (3, 'Rudolf', 78, 'Data Science'),\n",
       " (2, 'John', 56, 'Python Course'),\n",
       " (4, 'Jim', 56, 'Python Course'),\n",
       " (None, None, 101, 'DataBase')]"
      ]
     },
     "execution_count": 194,
     "metadata": {},
     "output_type": "execute_result"
    }
   ],
   "source": [
    "sql=\"select student.roll_no, student.student_name, course.course_id, course.course_name from course LEFT JOIN student On student.course_id =course.course_id\"\n",
    "results=cur.execute(sql)\n",
    "results.fetchall()"
   ]
  },
  {
   "cell_type": "raw",
   "id": "90414b5b",
   "metadata": {},
   "source": [
    "Both quey have different results"
   ]
  },
  {
   "cell_type": "markdown",
   "id": "77ea03a1",
   "metadata": {},
   "source": [
    "# Note:--- Right join and full outer join are does not support by sqlite."
   ]
  },
  {
   "cell_type": "code",
   "execution_count": null,
   "id": "da92e119",
   "metadata": {},
   "outputs": [],
   "source": []
  },
  {
   "cell_type": "code",
   "execution_count": null,
   "id": "93c134d1",
   "metadata": {},
   "outputs": [],
   "source": []
  },
  {
   "cell_type": "code",
   "execution_count": null,
   "id": "e4987219",
   "metadata": {},
   "outputs": [],
   "source": []
  }
 ],
 "metadata": {
  "kernelspec": {
   "display_name": "Python 3 (ipykernel)",
   "language": "python",
   "name": "python3"
  },
  "language_info": {
   "codemirror_mode": {
    "name": "ipython",
    "version": 3
   },
   "file_extension": ".py",
   "mimetype": "text/x-python",
   "name": "python",
   "nbconvert_exporter": "python",
   "pygments_lexer": "ipython3",
   "version": "3.11.5"
  }
 },
 "nbformat": 4,
 "nbformat_minor": 5
}
